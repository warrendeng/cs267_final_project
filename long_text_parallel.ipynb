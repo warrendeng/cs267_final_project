{
  "cells": [
    {
      "cell_type": "markdown",
      "metadata": {
        "id": "ggmOHuX_lzCv"
      },
      "source": [
        "# Import and Download Dataset"
      ]
    },
    {
      "cell_type": "code",
      "execution_count": null,
      "metadata": {
        "id": "kMfOPMpXD0Q4",
        "outputId": "6a02f3ed-b412-4d25-fea1-41024ec9ad08"
      },
      "outputs": [
        {
          "name": "stdout",
          "output_type": "stream",
          "text": [
            "Requirement already satisfied: nltk in /opt/conda/envs/pytorch/lib/python3.10/site-packages (3.8.1)\n",
            "Requirement already satisfied: joblib in /opt/conda/envs/pytorch/lib/python3.10/site-packages (from nltk) (1.2.0)\n",
            "Requirement already satisfied: click in /opt/conda/envs/pytorch/lib/python3.10/site-packages (from nltk) (8.1.3)\n",
            "Requirement already satisfied: tqdm in /opt/conda/envs/pytorch/lib/python3.10/site-packages (from nltk) (4.65.0)\n",
            "Requirement already satisfied: regex>=2021.8.3 in /opt/conda/envs/pytorch/lib/python3.10/site-packages (from nltk) (2023.3.23)\n",
            "Note: you may need to restart the kernel to use updated packages.\n",
            "Requirement already satisfied: transformers in /opt/conda/envs/pytorch/lib/python3.10/site-packages (4.28.1)\n",
            "Requirement already satisfied: packaging>=20.0 in /opt/conda/envs/pytorch/lib/python3.10/site-packages (from transformers) (21.3)\n",
            "Requirement already satisfied: tqdm>=4.27 in /opt/conda/envs/pytorch/lib/python3.10/site-packages (from transformers) (4.65.0)\n",
            "Requirement already satisfied: huggingface-hub<1.0,>=0.11.0 in /opt/conda/envs/pytorch/lib/python3.10/site-packages (from transformers) (0.13.4)\n",
            "Requirement already satisfied: pyyaml>=5.1 in /opt/conda/envs/pytorch/lib/python3.10/site-packages (from transformers) (5.4.1)\n",
            "Requirement already satisfied: tokenizers!=0.11.3,<0.14,>=0.11.1 in /opt/conda/envs/pytorch/lib/python3.10/site-packages (from transformers) (0.13.3)\n",
            "Requirement already satisfied: requests in /opt/conda/envs/pytorch/lib/python3.10/site-packages (from transformers) (2.28.2)\n",
            "Requirement already satisfied: numpy>=1.17 in /opt/conda/envs/pytorch/lib/python3.10/site-packages (from transformers) (1.23.5)\n",
            "Requirement already satisfied: filelock in /opt/conda/envs/pytorch/lib/python3.10/site-packages (from transformers) (3.12.0)\n",
            "Requirement already satisfied: regex!=2019.12.17 in /opt/conda/envs/pytorch/lib/python3.10/site-packages (from transformers) (2023.3.23)\n",
            "Requirement already satisfied: typing-extensions>=3.7.4.3 in /opt/conda/envs/pytorch/lib/python3.10/site-packages (from huggingface-hub<1.0,>=0.11.0->transformers) (4.5.0)\n",
            "Requirement already satisfied: pyparsing!=3.0.5,>=2.0.2 in /opt/conda/envs/pytorch/lib/python3.10/site-packages (from packaging>=20.0->transformers) (3.0.9)\n",
            "Requirement already satisfied: charset-normalizer<4,>=2 in /opt/conda/envs/pytorch/lib/python3.10/site-packages (from requests->transformers) (3.1.0)\n",
            "Requirement already satisfied: certifi>=2017.4.17 in /opt/conda/envs/pytorch/lib/python3.10/site-packages (from requests->transformers) (2022.12.7)\n",
            "Requirement already satisfied: urllib3<1.27,>=1.21.1 in /opt/conda/envs/pytorch/lib/python3.10/site-packages (from requests->transformers) (1.26.15)\n",
            "Requirement already satisfied: idna<4,>=2.5 in /opt/conda/envs/pytorch/lib/python3.10/site-packages (from requests->transformers) (3.4)\n",
            "Note: you may need to restart the kernel to use updated packages.\n",
            "Requirement already satisfied: datasets in /opt/conda/envs/pytorch/lib/python3.10/site-packages (2.11.0)\n",
            "Requirement already satisfied: aiohttp in /opt/conda/envs/pytorch/lib/python3.10/site-packages (from datasets) (3.8.4)\n",
            "Requirement already satisfied: pandas in /opt/conda/envs/pytorch/lib/python3.10/site-packages (from datasets) (1.5.3)\n",
            "Requirement already satisfied: multiprocess in /opt/conda/envs/pytorch/lib/python3.10/site-packages (from datasets) (0.70.14)\n",
            "Requirement already satisfied: tqdm>=4.62.1 in /opt/conda/envs/pytorch/lib/python3.10/site-packages (from datasets) (4.65.0)\n",
            "Requirement already satisfied: huggingface-hub<1.0.0,>=0.11.0 in /opt/conda/envs/pytorch/lib/python3.10/site-packages (from datasets) (0.13.4)\n",
            "Requirement already satisfied: numpy>=1.17 in /opt/conda/envs/pytorch/lib/python3.10/site-packages (from datasets) (1.23.5)\n",
            "Requirement already satisfied: pyarrow>=8.0.0 in /opt/conda/envs/pytorch/lib/python3.10/site-packages (from datasets) (11.0.0)\n",
            "Requirement already satisfied: dill<0.3.7,>=0.3.0 in /opt/conda/envs/pytorch/lib/python3.10/site-packages (from datasets) (0.3.6)\n",
            "Requirement already satisfied: pyyaml>=5.1 in /opt/conda/envs/pytorch/lib/python3.10/site-packages (from datasets) (5.4.1)\n",
            "Requirement already satisfied: xxhash in /opt/conda/envs/pytorch/lib/python3.10/site-packages (from datasets) (3.2.0)\n",
            "Requirement already satisfied: requests>=2.19.0 in /opt/conda/envs/pytorch/lib/python3.10/site-packages (from datasets) (2.28.2)\n",
            "Requirement already satisfied: fsspec[http]>=2021.11.1 in /opt/conda/envs/pytorch/lib/python3.10/site-packages (from datasets) (2023.3.0)\n",
            "Requirement already satisfied: packaging in /opt/conda/envs/pytorch/lib/python3.10/site-packages (from datasets) (21.3)\n",
            "Requirement already satisfied: responses<0.19 in /opt/conda/envs/pytorch/lib/python3.10/site-packages (from datasets) (0.18.0)\n",
            "Requirement already satisfied: attrs>=17.3.0 in /opt/conda/envs/pytorch/lib/python3.10/site-packages (from aiohttp->datasets) (22.2.0)\n",
            "Requirement already satisfied: yarl<2.0,>=1.0 in /opt/conda/envs/pytorch/lib/python3.10/site-packages (from aiohttp->datasets) (1.9.1)\n",
            "Requirement already satisfied: multidict<7.0,>=4.5 in /opt/conda/envs/pytorch/lib/python3.10/site-packages (from aiohttp->datasets) (6.0.4)\n",
            "Requirement already satisfied: frozenlist>=1.1.1 in /opt/conda/envs/pytorch/lib/python3.10/site-packages (from aiohttp->datasets) (1.3.3)\n",
            "Requirement already satisfied: async-timeout<5.0,>=4.0.0a3 in /opt/conda/envs/pytorch/lib/python3.10/site-packages (from aiohttp->datasets) (4.0.2)\n",
            "Requirement already satisfied: aiosignal>=1.1.2 in /opt/conda/envs/pytorch/lib/python3.10/site-packages (from aiohttp->datasets) (1.3.1)\n",
            "Requirement already satisfied: charset-normalizer<4.0,>=2.0 in /opt/conda/envs/pytorch/lib/python3.10/site-packages (from aiohttp->datasets) (3.1.0)\n",
            "Requirement already satisfied: filelock in /opt/conda/envs/pytorch/lib/python3.10/site-packages (from huggingface-hub<1.0.0,>=0.11.0->datasets) (3.12.0)\n",
            "Requirement already satisfied: typing-extensions>=3.7.4.3 in /opt/conda/envs/pytorch/lib/python3.10/site-packages (from huggingface-hub<1.0.0,>=0.11.0->datasets) (4.5.0)\n",
            "Requirement already satisfied: pyparsing!=3.0.5,>=2.0.2 in /opt/conda/envs/pytorch/lib/python3.10/site-packages (from packaging->datasets) (3.0.9)\n",
            "Requirement already satisfied: idna<4,>=2.5 in /opt/conda/envs/pytorch/lib/python3.10/site-packages (from requests>=2.19.0->datasets) (3.4)\n",
            "Requirement already satisfied: urllib3<1.27,>=1.21.1 in /opt/conda/envs/pytorch/lib/python3.10/site-packages (from requests>=2.19.0->datasets) (1.26.15)\n",
            "Requirement already satisfied: certifi>=2017.4.17 in /opt/conda/envs/pytorch/lib/python3.10/site-packages (from requests>=2.19.0->datasets) (2022.12.7)\n",
            "Requirement already satisfied: python-dateutil>=2.8.1 in /opt/conda/envs/pytorch/lib/python3.10/site-packages (from pandas->datasets) (2.8.2)\n",
            "Requirement already satisfied: pytz>=2020.1 in /opt/conda/envs/pytorch/lib/python3.10/site-packages (from pandas->datasets) (2023.3)\n",
            "Requirement already satisfied: six>=1.5 in /opt/conda/envs/pytorch/lib/python3.10/site-packages (from python-dateutil>=2.8.1->pandas->datasets) (1.16.0)\n",
            "Note: you may need to restart the kernel to use updated packages.\n",
            "Requirement already satisfied: numpy in /opt/conda/envs/pytorch/lib/python3.10/site-packages (1.23.5)\n",
            "Note: you may need to restart the kernel to use updated packages.\n",
            "Requirement already satisfied: ray in /opt/conda/envs/pytorch/lib/python3.10/site-packages (2.3.1)\n",
            "Requirement already satisfied: filelock in /opt/conda/envs/pytorch/lib/python3.10/site-packages (from ray) (3.12.0)\n",
            "Requirement already satisfied: msgpack<2.0.0,>=1.0.0 in /opt/conda/envs/pytorch/lib/python3.10/site-packages (from ray) (1.0.5)\n",
            "Requirement already satisfied: click>=7.0 in /opt/conda/envs/pytorch/lib/python3.10/site-packages (from ray) (8.1.3)\n",
            "Requirement already satisfied: jsonschema in /opt/conda/envs/pytorch/lib/python3.10/site-packages (from ray) (4.17.3)\n",
            "Requirement already satisfied: virtualenv>=20.0.24 in /opt/conda/envs/pytorch/lib/python3.10/site-packages (from ray) (20.22.0)\n",
            "Requirement already satisfied: frozenlist in /opt/conda/envs/pytorch/lib/python3.10/site-packages (from ray) (1.3.3)\n",
            "Requirement already satisfied: aiosignal in /opt/conda/envs/pytorch/lib/python3.10/site-packages (from ray) (1.3.1)\n",
            "Requirement already satisfied: numpy>=1.19.3 in /opt/conda/envs/pytorch/lib/python3.10/site-packages (from ray) (1.23.5)\n",
            "Requirement already satisfied: requests in /opt/conda/envs/pytorch/lib/python3.10/site-packages (from ray) (2.28.2)\n",
            "Requirement already satisfied: packaging in /opt/conda/envs/pytorch/lib/python3.10/site-packages (from ray) (21.3)\n",
            "Requirement already satisfied: attrs in /opt/conda/envs/pytorch/lib/python3.10/site-packages (from ray) (22.2.0)\n",
            "Requirement already satisfied: protobuf!=3.19.5,>=3.15.3 in /opt/conda/envs/pytorch/lib/python3.10/site-packages (from ray) (3.20.3)\n",
            "Requirement already satisfied: pyyaml in /opt/conda/envs/pytorch/lib/python3.10/site-packages (from ray) (5.4.1)\n",
            "Requirement already satisfied: grpcio>=1.42.0 in /opt/conda/envs/pytorch/lib/python3.10/site-packages (from ray) (1.54.0)\n",
            "Requirement already satisfied: platformdirs<4,>=3.2 in /opt/conda/envs/pytorch/lib/python3.10/site-packages (from virtualenv>=20.0.24->ray) (3.2.0)\n",
            "Requirement already satisfied: distlib<1,>=0.3.6 in /opt/conda/envs/pytorch/lib/python3.10/site-packages (from virtualenv>=20.0.24->ray) (0.3.6)\n",
            "Requirement already satisfied: pyrsistent!=0.17.0,!=0.17.1,!=0.17.2,>=0.14.0 in /opt/conda/envs/pytorch/lib/python3.10/site-packages (from jsonschema->ray) (0.19.3)\n",
            "Requirement already satisfied: pyparsing!=3.0.5,>=2.0.2 in /opt/conda/envs/pytorch/lib/python3.10/site-packages (from packaging->ray) (3.0.9)\n",
            "Requirement already satisfied: certifi>=2017.4.17 in /opt/conda/envs/pytorch/lib/python3.10/site-packages (from requests->ray) (2022.12.7)\n",
            "Requirement already satisfied: charset-normalizer<4,>=2 in /opt/conda/envs/pytorch/lib/python3.10/site-packages (from requests->ray) (3.1.0)\n",
            "Requirement already satisfied: urllib3<1.27,>=1.21.1 in /opt/conda/envs/pytorch/lib/python3.10/site-packages (from requests->ray) (1.26.15)\n",
            "Requirement already satisfied: idna<4,>=2.5 in /opt/conda/envs/pytorch/lib/python3.10/site-packages (from requests->ray) (3.4)\n",
            "Note: you may need to restart the kernel to use updated packages.\n",
            "Requirement already satisfied: nvsmi in /opt/conda/envs/pytorch/lib/python3.10/site-packages (0.4.2)\n",
            "Note: you may need to restart the kernel to use updated packages.\n"
          ]
        }
      ],
      "source": [
        "%pip install nltk \n",
        "%pip install transformers\n",
        "%pip install datasets \n",
        "%pip install numpy \n",
        "%pip install ray \n",
        "%pip install nvsmi"
      ]
    },
    {
      "cell_type": "code",
      "execution_count": null,
      "metadata": {
        "id": "dMPIUCT0dn1h"
      },
      "outputs": [],
      "source": [
        "%%capture\n",
        "\n",
        "import re\n",
        "import numpy as np\n",
        "from nltk.corpus import stopwords\n",
        "from nltk.stem import WordNetLemmatizer\n",
        "from nltk.tokenize import word_tokenize\n",
        "from sklearn.feature_extraction.text import TfidfVectorizer\n",
        "from sklearn.decomposition import LatentDirichletAllocation, NMF\n",
        "from sklearn.model_selection import train_test_split\n",
        "from tqdm.notebook import tqdm\n",
        "from sklearn.metrics.pairwise import cosine_similarity\n",
        "from nltk.tokenize import sent_tokenize\n",
        "import torch\n",
        "from sklearn.metrics import classification_report\n",
        "from collections import Counter\n",
        "\n",
        "\n",
        "from sklearn.metrics.pairwise import euclidean_distances\n",
        "from transformers import DistilBertTokenizer, DistilBertForSequenceClassification\n",
        "from transformers import pipeline\n",
        "from datasets import load_dataset\n",
        "from transformers import TrainingArguments\n",
        "from torch.utils.data import Dataset\n",
        "from transformers import Trainer\n",
        "\n",
        "# Load 20 Newsgroups dataset\n",
        "from sklearn.datasets import fetch_20newsgroups\n",
        "\n",
        "dataset = fetch_20newsgroups(subset='all', remove=('headers', 'footers', 'quotes'))"
      ]
    },
    {
      "cell_type": "code",
      "execution_count": null,
      "metadata": {
        "colab": {
          "base_uri": "https://localhost:8080/"
        },
        "id": "cnEDDfP7h7Lv",
        "outputId": "60a036ae-0585-4bc6-cd23-019518474b37"
      },
      "outputs": [
        {
          "data": {
            "text/plain": [
              "True"
            ]
          },
          "execution_count": 4,
          "metadata": {},
          "output_type": "execute_result"
        }
      ],
      "source": [
        "import nltk\n",
        "nltk.download('punkt')\n",
        "nltk.download('stopwords')\n",
        "nltk.download('wordnet')"
      ]
    },
    {
      "cell_type": "code",
      "execution_count": null,
      "metadata": {
        "id": "8fZYXcyX1e_n"
      },
      "outputs": [],
      "source": [
        "import time\n",
        "from ray.train.torch import TorchTrainer\n",
        "from ray.train.torch import TorchConfig\n",
        "from ray.air import ScalingConfig\n",
        "\n",
        "# from ray.train.callbacks import ProgressBarCallback"
      ]
    },
    {
      "cell_type": "code",
      "execution_count": null,
      "metadata": {
        "id": "EZuI-3EHD0Q5",
        "outputId": "3f69cf43-a817-423e-dea0-823611ecc3db"
      },
      "outputs": [
        {
          "name": "stderr",
          "output_type": "stream",
          "text": [
            "/opt/conda/envs/pytorch/lib/python3.10/site-packages/torch/cuda/__init__.py:551: UserWarning: Can't initialize NVML\n",
            "  warnings.warn(\"Can't initialize NVML\")\n"
          ]
        },
        {
          "data": {
            "text/plain": [
              "[]"
            ]
          },
          "execution_count": 6,
          "metadata": {},
          "output_type": "execute_result"
        }
      ],
      "source": [
        "available_gpus = [torch.cuda.device(i) for i in range(torch.cuda.device_count())]\n",
        "available_gpus"
      ]
    },
    {
      "cell_type": "markdown",
      "metadata": {
        "id": "2MF7numIl8i1"
      },
      "source": [
        "# Preprocess Dataset"
      ]
    },
    {
      "cell_type": "code",
      "execution_count": null,
      "metadata": {
        "id": "7RHBFOtWdvfJ"
      },
      "outputs": [],
      "source": [
        "# check this for correctness \n",
        "def preprocess(text):\n",
        "    text = text.lower()\n",
        "    tokens = word_tokenize(text)\n",
        "    stopword_set = set(stopwords.words(\"english\"))\n",
        "    \n",
        "#     tokens = [token for token in tokens if token not in stopword_set]\n",
        "    # do we need this? seems like just simplifies our word \n",
        "    lemmatizer = WordNetLemmatizer()\n",
        "    tokens = [lemmatizer.lemmatize(token) for token in tokens if token not in stopword_set]\n",
        "    if len(tokens) <= 1:\n",
        "        return\n",
        "    return \" \".join(tokens)\n",
        "\n",
        "\n",
        "def keep_longest_n_documents(dataset, n=5000):\n",
        "    data = dataset.data\n",
        "    lengths = [len(text) for text in data]\n",
        "\n",
        "    sorted_indices = sorted(range(len(lengths)), key=lambda i: lengths[i], reverse=True)\n",
        "    longest_n_indices = sorted_indices[:n]\n",
        "\n",
        "    longest_n_documents = [data[i] for i in longest_n_indices]\n",
        "    longest_n_labels = [dataset.target[i] for i in longest_n_indices]\n",
        "\n",
        "    return longest_n_documents, longest_n_labels\n",
        "\n",
        "def filter_invalid_documents(documents, labels):\n",
        "    filtered_documents = []\n",
        "    filtered_labels = []\n",
        "\n",
        "    for doc, label in zip(documents, labels):\n",
        "        if len(doc.strip()) > 5 and preprocess(doc) is not None: # cheating way of doing this, but prevents any empty/invalid later on  \n",
        "            filtered_documents.append(doc)\n",
        "            filtered_labels.append(label)\n",
        "\n",
        "    print(f'Filtered out {len(documents) - len(filtered_documents)} short strings.')\n",
        "\n",
        "    return filtered_documents, filtered_labels\n",
        "\n"
      ]
    },
    {
      "cell_type": "markdown",
      "metadata": {
        "id": "nnJcucvFD8hM"
      },
      "source": [
        "## All"
      ]
    },
    {
      "cell_type": "code",
      "execution_count": null,
      "metadata": {
        "colab": {
          "base_uri": "https://localhost:8080/",
          "height": 84,
          "referenced_widgets": [
            "ce9a7196e08a47c7b619323f77911d03",
            "180982a34185447eb1ea5e239fdef85f",
            "2a1bcba4e87d427886fe67cd9b105136",
            "4d243607e780466dbabb93db5368ae85",
            "446e94e8d3e74b9babed58322523dc92",
            "ba1fc46ff98249ab8d86aa6dcbf04593",
            "3c275154fb614817b07378360778dea4",
            "4a7b00943ef84a0dafce8bad418656bb",
            "3613d0fa14c54321a9c736625e2dd51a",
            "0bb154ba5f55486cac19b45398e16a74",
            "8fffcbec93fa48f6b7ad4b85a562b2ba",
            "4d6b98458e9d46009dc5fd3180ac632d"
          ]
        },
        "id": "Qp1iCso_EGgF",
        "outputId": "789dc6c2-a2ec-4941-a7bc-2f7f355d15c5"
      },
      "outputs": [
        {
          "name": "stdout",
          "output_type": "stream",
          "text": [
            "Filtered out 558 short strings.\n"
          ]
        },
        {
          "data": {
            "application/vnd.jupyter.widget-view+json": {
              "model_id": "4d6b98458e9d46009dc5fd3180ac632d",
              "version_major": 2,
              "version_minor": 0
            },
            "text/plain": [
              "Preprocessing texts:   0%|          | 0/18288 [00:00<?, ?it/s]"
            ]
          },
          "metadata": {},
          "output_type": "display_data"
        },
        {
          "name": "stdout",
          "output_type": "stream",
          "text": [
            "Serial:  31.999093055725098\n"
          ]
        }
      ],
      "source": [
        "documents = dataset.data\n",
        "labels = dataset.target\n",
        "filtered_documents, filtered_labels = filter_invalid_documents(documents, labels)\n",
        "\n",
        "start_time = time.time()\n",
        "X = [preprocess(text) for text in tqdm(filtered_documents, desc=\"Preprocessing texts\", position=0)]\n",
        "y = filtered_labels\n",
        "print(\"Serial: \", time.time()-start_time)\n",
        "\n",
        "X_train, X_test, y_train, y_test = train_test_split(X, y, test_size=0.2, random_state=42)"
      ]
    },
    {
      "cell_type": "code",
      "execution_count": null,
      "metadata": {
        "colab": {
          "base_uri": "https://localhost:8080/"
        },
        "id": "UlmgVb18HPN8",
        "outputId": "4b9a949c-32d5-4c52-f753-506f5c1cee77"
      },
      "outputs": [
        {
          "name": "stdout",
          "output_type": "stream",
          "text": [
            "Number of CPU cores: 8\n"
          ]
        }
      ],
      "source": [
        "import time\n",
        "import multiprocessing\n",
        "num_cores = multiprocessing.cpu_count()\n",
        "print(f'Number of CPU cores: {num_cores}')"
      ]
    },
    {
      "cell_type": "code",
      "execution_count": null,
      "metadata": {
        "colab": {
          "base_uri": "https://localhost:8080/",
          "height": 84,
          "referenced_widgets": [
            "451ffcc860754c0b8053a477fe87a813",
            "007ce2aba6a54638bbf636402246690b",
            "35e89d6201164feb8e0f4bc3d7fdac98",
            "bf284d96d86c4ba881d56cf37ec1d1d9",
            "c8f8e52169a14d8da090385673d74aa4",
            "d191dacc27bd421f8afbf6b750228924",
            "0230616d362746caa0bb7434bbf89f78",
            "becd76ef39c448d2a2666fdb11d8ad8b",
            "96f576590d054bc489322d62c08b3d46",
            "580c44da5f0f45efb1dc77720c028c58",
            "90856b7a55ba47af8d4894976e1568a8",
            "faaf0c4fc50244b68163cd97878d89ce"
          ]
        },
        "id": "goW418dgmiIT",
        "outputId": "cddea623-a3cf-4d01-ed76-3c7a4496e11d"
      },
      "outputs": [
        {
          "name": "stdout",
          "output_type": "stream",
          "text": [
            "Filtered out 558 short strings.\n"
          ]
        },
        {
          "data": {
            "application/vnd.jupyter.widget-view+json": {
              "model_id": "faaf0c4fc50244b68163cd97878d89ce",
              "version_major": 2,
              "version_minor": 0
            },
            "text/plain": [
              "Preprocessing texts:   0%|          | 0/18288 [00:00<?, ?it/s]"
            ]
          },
          "metadata": {},
          "output_type": "display_data"
        },
        {
          "name": "stdout",
          "output_type": "stream",
          "text": [
            "Parallel:  7.820757627487183\n"
          ]
        }
      ],
      "source": [
        "def parallel_preprocess(document_queue, result_queue):\n",
        "    while True:\n",
        "        document = document_queue.get() # pops \n",
        "        if document is None:\n",
        "            break\n",
        "\n",
        "        preprocessed_document = preprocess(document)\n",
        "        result_queue.put(preprocessed_document)\n",
        "\n",
        "documents = dataset.data\n",
        "labels = dataset.target\n",
        "filtered_documents, filtered_labels = filter_invalid_documents(documents, labels)\n",
        "\n",
        "start_time = time.time()\n",
        "\n",
        "document_queue = multiprocessing.Queue()\n",
        "result_queue = multiprocessing.Queue()\n",
        "\n",
        "num_cores = multiprocessing.cpu_count()\n",
        "# num_cores = 2\n",
        "workers = [multiprocessing.Process(target=parallel_preprocess, args=(document_queue, result_queue)) for _ in range(num_cores)]\n",
        "\n",
        "for document in filtered_documents:\n",
        "    document_queue.put(document)\n",
        "\n",
        "for _ in range(num_cores):\n",
        "    document_queue.put(None)\n",
        "\n",
        "for worker in workers:\n",
        "    worker.start() # every process executes parallel_preprocess, queue is shared \n",
        "\n",
        "X = []\n",
        "for _ in tqdm(range(len(filtered_documents)), desc=\"Preprocessing texts\", position=0):\n",
        "    X.append(result_queue.get())\n",
        "    \n",
        "for worker in workers:\n",
        "    worker.join()\n",
        "    \n",
        "\n",
        "print(\"Parallel: \", time.time() - start_time)\n",
        "\n",
        "y = filtered_labels\n",
        "X_train_parallel, X_test_parallel, y_train_parallel, y_test_parallel = train_test_split(X, y, test_size=0.2, random_state=42)\n"
      ]
    },
    {
      "cell_type": "code",
      "execution_count": null,
      "metadata": {
        "id": "uWoVTL_4D0Q6",
        "outputId": "c2ad3ea5-cebb-4ae9-810a-3aef7d9888fb"
      },
      "outputs": [
        {
          "name": "stdout",
          "output_type": "stream",
          "text": [
            "14630\n",
            "14630\n"
          ]
        }
      ],
      "source": [
        "print(len(X_train))\n",
        "print(len(X_train_parallel))"
      ]
    },
    {
      "cell_type": "markdown",
      "metadata": {
        "id": "6G9qS1dS3Mqt"
      },
      "source": [
        "# Split into chunks"
      ]
    },
    {
      "cell_type": "code",
      "execution_count": null,
      "metadata": {
        "id": "jsxt8GQq3QHK"
      },
      "outputs": [],
      "source": [
        "def split_into_chunks(text, chunk_size, overlap):\n",
        "    chunks = []\n",
        "    start = 0\n",
        "    while start < len(text):\n",
        "        end = start + chunk_size\n",
        "        chunks.append(text[start:end])\n",
        "        start = end - overlap\n",
        "    return chunks\n",
        "\n",
        "\n",
        "def get_important_chunks_lda_euclidean(text, n_chunks=5, chunk_size=256, overlap=128):\n",
        "    text_chunks = split_into_chunks(text, chunk_size, overlap)\n",
        "\n",
        "    tfidf_vectorizer = TfidfVectorizer()\n",
        "    X_document = \"\"\n",
        "    try:\n",
        "        X_document = tfidf_vectorizer.fit_transform([text])\n",
        "    except:\n",
        "        print(text)\n",
        "        return []\n",
        "        \n",
        "\n",
        "    text_chunks = split_into_chunks(text, chunk_size, overlap)\n",
        "    X_chunks = tfidf_vectorizer.transform(text_chunks)\n",
        "    \n",
        "    # Filter out the chunks with no relevant tokens\n",
        "    non_empty_indices = np.where(X_chunks.getnnz(1) > 0)[0]\n",
        "    X_chunks_filtered = X_chunks[non_empty_indices]\n",
        "    text_chunks_filtered = [text_chunks[i] for i in non_empty_indices]\n",
        "    \n",
        "    # Apply LDA to the filtered TF-IDF matrix\n",
        "    lda = LatentDirichletAllocation(n_components=n_chunks, random_state=42)\n",
        "    lda.fit(X_chunks_filtered)\n",
        "    \n",
        "    # Transform the whole document using the fitted LDA model\n",
        "    doc_topics = lda.transform(X_document)\n",
        "    \n",
        "    # Calculate the topic probabilities for each chunk\n",
        "    chunk_topics = lda.transform(X_chunks_filtered)\n",
        "    \n",
        "    # Calculate the Euclidean distances between the document's topics and each chunk's topics\n",
        "    distances = euclidean_distances(doc_topics, chunk_topics)\n",
        "    \n",
        "    # Get the indices of the n_chunks most similar chunks (smallest distances)\n",
        "    top_indices = np.argsort(distances, axis=1)[0, :n_chunks]\n",
        "    \n",
        "    # Extract and return the most similar chunks\n",
        "    chunks = [text_chunks_filtered[index] for index in top_indices]\n",
        "    return chunks\n",
        "\n"
      ]
    },
    {
      "cell_type": "code",
      "execution_count": null,
      "metadata": {
        "colab": {
          "base_uri": "https://localhost:8080/",
          "height": 1000,
          "referenced_widgets": [
            "81787338f1584efe8c10a602746d7ea0",
            "bef792b328d14015a7a8a99d8d3815b8",
            "b2cceb3424734e14b8cbb12c2e9eee62",
            "f03c7ff55e51457bb2ae5a6709482301",
            "e39774ec75934788975709071aac8758",
            "10332cd3de20413a9d35627a48995dd2",
            "be7c8f7f82d7456abb1681d62367d586",
            "cf995c26c71d45bb8b80ddbac3e61dfd",
            "6b2c1503508846e68fcf59913fc53784",
            "788a2ec55c8b4744a76e27cacbece45e",
            "813f7e0ec4a94ea485dfd5370f25f7f7",
            "96168f1a9f1342268bf666b44b9ff65f"
          ]
        },
        "id": "v6rKKKwP3Wvv",
        "outputId": "00861a91-e396-4b37-a2fa-aaadf463c600"
      },
      "outputs": [
        {
          "data": {
            "application/vnd.jupyter.widget-view+json": {
              "model_id": "96168f1a9f1342268bf666b44b9ff65f",
              "version_major": 2,
              "version_minor": 0
            },
            "text/plain": [
              "Extracting important chunks (train set):   0%|          | 0/14630 [00:00<?, ?it/s]"
            ]
          },
          "metadata": {},
          "output_type": "display_data"
        },
        {
          "name": "stdout",
          "output_type": "stream",
          "text": [
            "-- -- -- -- --\n",
            "p h e r c l e g n n g\n",
            "-- -- -- -- -- -- -- -- -- -- -- -- -- -- -- -- -- --\n",
            "-- -- -- -- --\n",
            "[ ... ]\n",
            "^^^^^^^^^^^^^^^^^^^^^^^^^^^^^^^^^^^^^^^^^^^^^^^^^^^^^^^^^^^^^^^^^^^^^^^^^^^^ ^^^\n",
            "-- -- -- -- --\n",
            "-- -- -- -- --\n",
            "Serial:  208.24080395698547\n"
          ]
        }
      ],
      "source": [
        "start_time = time.time()\n",
        "train_chunks = [get_important_chunks_lda_euclidean(text) for text in tqdm(X_train, desc=\"Extracting important chunks (train set)\")]\n",
        "\n",
        "train_texts = [chunk for chunks in train_chunks if chunks is not None for chunk in chunks]\n",
        "train_labels = np.hstack([np.repeat(label, len(chunks)) for label, chunks in zip(y_train, train_chunks)if chunks is not None])\n",
        "\n",
        "assert len(train_texts) == len(train_labels)\n",
        "print(\"Serial: \",time.time()-start_time)"
      ]
    },
    {
      "cell_type": "code",
      "execution_count": null,
      "metadata": {
        "colab": {
          "referenced_widgets": [
            "7faf1ad4b2854da19ddeb8b41f5ed11e"
          ]
        },
        "id": "mv2XMViUD0Q6",
        "outputId": "5eb2fa97-7acf-45d4-f196-d40ad3032c56"
      },
      "outputs": [
        {
          "data": {
            "application/vnd.jupyter.widget-view+json": {
              "model_id": "7faf1ad4b2854da19ddeb8b41f5ed11e",
              "version_major": 2,
              "version_minor": 0
            },
            "text/plain": [
              "Preprocessing texts:   0%|          | 0/14630 [00:00<?, ?it/s]"
            ]
          },
          "metadata": {},
          "output_type": "display_data"
        },
        {
          "name": "stdout",
          "output_type": "stream",
          "text": [
            "Parallel:  84.09461188316345\n"
          ]
        }
      ],
      "source": [
        "def parallel_chunks(document_queue, text_queue, label_queue):\n",
        "    while True:\n",
        "        document = document_queue.get() # pops \n",
        "        if document is None:\n",
        "            break\n",
        "\n",
        "        train_chunks_parallel = get_important_chunks_lda_euclidean(document)\n",
        "        text_queue.put([chunk for chunks in train_chunks_parallel if chunks is not None for chunk in chunks])\n",
        "        label_queue.put(np.hstack([np.repeat(label, len(chunks)) for label, chunks in zip(y_train, train_chunks_parallel)if chunks is not None]))\n",
        "        \n",
        "start_time = time.time()\n",
        "document_queue = multiprocessing.Queue()\n",
        "text_queue = multiprocessing.Queue()\n",
        "label_queue = multiprocessing.Queue()\n",
        "workers = [multiprocessing.Process(target=parallel_chunks, args=(document_queue, text_queue, label_queue)) for _ in range(num_cores)]\n",
        "\n",
        "for documents in X_train:\n",
        "    document_queue.put(document)\n",
        "\n",
        "for _ in range(num_cores):\n",
        "    document_queue.put(None)\n",
        "\n",
        "for worker in workers:\n",
        "    worker.start() # every process executes parallel_preprocess, queue is shared \n",
        "\n",
        "train_texts_parallel = []\n",
        "train_labels_parallel = []\n",
        "for _ in tqdm(range(len(X_train)), desc=\"Preprocessing texts\", position=0): \n",
        "    train_texts_parallel.append(text_queue.get())\n",
        "    train_labels_parallel.append(label_queue.get())\n",
        "    \n",
        "for worker in workers:\n",
        "    worker.join()\n",
        "\n",
        "assert len(train_texts_parallel) == len(train_labels_parallel)\n",
        "    \n",
        "print(\"Parallel: \", time.time() - start_time)\n",
        "    "
      ]
    },
    {
      "cell_type": "markdown",
      "metadata": {
        "id": "KGx4hroRD0Q6"
      },
      "source": [
        "# Preprocessing per document instead of in separate stages"
      ]
    },
    {
      "cell_type": "code",
      "execution_count": null,
      "metadata": {
        "id": "Ro80VEMdD0Q7"
      },
      "outputs": [],
      "source": [
        "# not sure if this is possible because we first process all the documents before making the train_test_split\n",
        "# unless we do train_test_split first on the filtered documents and labels\n",
        "\n",
        "def parallel_preprocess(document_queue, text_queue, label_queue):\n",
        "    while True:\n",
        "        document = document_queue.get() # pops \n",
        "        if document is None:\n",
        "            break\n",
        "\n",
        "        preprocessed_document = preprocess(document)\n",
        "        train_chunks_parallel = get_important_chunks_lda_euclidean(document)\n",
        "        text_queue.put([chunk for chunks in train_chunks_parallel if chunks is not None for chunk in chunks])\n",
        "        label_queue.put(np.hstack([np.repeat(label, len(chunks)) for label, chunks in zip(y_train, train_chunks_parallel)if chunks is not None]))\n",
        "        result_queue.put(preprocessed_document)\n",
        "\n",
        "documents = dataset.data\n",
        "labels = dataset.target\n",
        "filtered_documents, filtered_labels = filter_invalid_documents(documents, labels)\n",
        "\n",
        "start_time = time.time()\n",
        "\n",
        "document_queue = multiprocessing.Queue()\n",
        "text_queue = multiprocessing.Queue()\n",
        "label_queue = multiprocessing.Queue()\n",
        "\n",
        "num_cores = multiprocessing.cpu_count()\n",
        "# num_cores = 2\n",
        "\n",
        "workers = [multiprocessing.Process(target=parallel_chunks, args=(document_queue, text_queue, label_queue)) for _ in range(num_cores)]\n",
        "\n",
        "for document in filtered_documents:\n",
        "    document_queue.put(document)\n",
        "\n",
        "for _ in range(num_cores):\n",
        "    document_queue.put(None)\n",
        "\n",
        "for worker in workers:\n",
        "    worker.start() # every process executes parallel_preprocess, queue is shared \n",
        "\n",
        "X = []\n",
        "for _ in tqdm(range(len(filtered_documents)), desc=\"Preprocessing texts\", position=0):\n",
        "    train_texts_parallel.append(text_queue.get())\n",
        "    train_labels_parallel.append(label_queue.get())\n",
        "    \n",
        "for worker in workers:\n",
        "    worker.join()\n",
        "    \n",
        "\n",
        "print(\"Parallel: \", time.time() - start_time)\n",
        "\n",
        "y = filtered_labels\n",
        "X_train_parallel, X_test_parallel, y_train_parallel, y_test_parallel = train_test_split(X, y, test_size=0.2, random_state=42)\n",
        "\n",
        "train_texts_parallel = []\n",
        "train_labels_parallel = []\n"
      ]
    },
    {
      "cell_type": "markdown",
      "metadata": {
        "id": "nfdJsTwCmBfY"
      },
      "source": [
        "# Train the Model"
      ]
    },
    {
      "cell_type": "markdown",
      "metadata": {
        "id": "JUkqx_HBHpgz"
      },
      "source": [
        "## Train with Ray"
      ]
    },
    {
      "cell_type": "code",
      "execution_count": null,
      "metadata": {
        "id": "k-buzSpJ-FwG"
      },
      "outputs": [],
      "source": [
        "def train_func(config):\n",
        "\n",
        "    class TextClassificationDataset(Dataset):\n",
        "      def __init__(self, encodings, labels):\n",
        "          self.encodings = encodings\n",
        "          self.labels = labels\n",
        "          \n",
        "      def __len__(self):\n",
        "          return len(self.labels)\n",
        "\n",
        "      def __getitem__(self, idx):\n",
        "          item = {key: val[idx].clone().detach() for key, val in self.encodings.items()}\n",
        "          item[\"labels\"] = torch.tensor(self.labels[idx], dtype=torch.long)\n",
        "          return item\n",
        "\n",
        "    tokenizer = DistilBertTokenizer.from_pretrained(\"distilbert-base-uncased\")\n",
        "    model = DistilBertForSequenceClassification.from_pretrained(\"distilbert-base-uncased\", num_labels=20)\n",
        "\n",
        "    train_encodings = tokenizer(train_texts, padding=\"max_length\", truncation=True, max_length=256, return_tensors=\"pt\")\n",
        "    train_dataset = TextClassificationDataset(train_encodings, train_labels)\n",
        "\n",
        "    training_args = TrainingArguments(\n",
        "        output_dir=\"./results\", \n",
        "        num_train_epochs=3,\n",
        "        per_device_train_batch_size=16, \n",
        "        warmup_steps=500, \n",
        "        weight_decay=0.01,\n",
        "    )\n",
        "\n",
        "    trainer = Trainer(model=model, args=training_args, train_dataset=train_dataset, tokenizer=tokenizer)\n",
        "    trainer.train()\n",
        "\n",
        "    return trainer.state.best_metric, model.state_dict()\n"
      ]
    },
    {
      "cell_type": "code",
      "execution_count": null,
      "metadata": {
        "colab": {
          "base_uri": "https://localhost:8080/",
          "height": 426
        },
        "id": "C08O0fBy-Que",
        "outputId": "5db0846a-09ba-4d97-c2d6-8904b702ffbf"
      },
      "outputs": [
        {
          "data": {
            "text/html": [
              "<div class=\"tuneStatus\">\n",
              "  <div style=\"display: flex;flex-direction: row\">\n",
              "    <div style=\"display: flex;flex-direction: column;\">\n",
              "      <h3>Tune Status</h3>\n",
              "      <table>\n",
              "<tbody>\n",
              "<tr><td>Current time:</td><td>2023-04-16 17:50:12</td></tr>\n",
              "<tr><td>Running for: </td><td>00:12:36.01        </td></tr>\n",
              "<tr><td>Memory:      </td><td>4.0/12.7 GiB       </td></tr>\n",
              "</tbody>\n",
              "</table>\n",
              "    </div>\n",
              "    <div class=\"vDivider\"></div>\n",
              "    <div class=\"systemInfo\">\n",
              "      <h3>System Info</h3>\n",
              "      Using FIFO scheduling algorithm.<br>Resources requested: 0/2 CPUs, 0/1 GPUs, 0.0/7.37 GiB heap, 0.0/3.68 GiB objects\n",
              "    </div>\n",
              "    \n",
              "  </div>\n",
              "  <div class=\"hDivider\"></div>\n",
              "  <div class=\"trialStatus\">\n",
              "    <h3>Trial Status</h3>\n",
              "    <table>\n",
              "<thead>\n",
              "<tr><th>Trial name              </th><th>status  </th><th>loc  </th></tr>\n",
              "</thead>\n",
              "<tbody>\n",
              "<tr><td>TorchTrainer_60727_00000</td><td>PENDING </td><td>     </td></tr>\n",
              "</tbody>\n",
              "</table>\n",
              "  </div>\n",
              "</div>\n",
              "<style>\n",
              ".tuneStatus {\n",
              "  color: var(--jp-ui-font-color1);\n",
              "}\n",
              ".tuneStatus .systemInfo {\n",
              "  display: flex;\n",
              "  flex-direction: column;\n",
              "}\n",
              ".tuneStatus td {\n",
              "  white-space: nowrap;\n",
              "}\n",
              ".tuneStatus .trialStatus {\n",
              "  display: flex;\n",
              "  flex-direction: column;\n",
              "}\n",
              ".tuneStatus h3 {\n",
              "  font-weight: bold;\n",
              "}\n",
              ".tuneStatus .hDivider {\n",
              "  border-bottom-width: var(--jp-border-width);\n",
              "  border-bottom-color: var(--jp-border-color0);\n",
              "  border-bottom-style: solid;\n",
              "}\n",
              ".tuneStatus .vDivider {\n",
              "  border-left-width: var(--jp-border-width);\n",
              "  border-left-color: var(--jp-border-color0);\n",
              "  border-left-style: solid;\n",
              "  margin: 0.5em 1em 0.5em 1em;\n",
              "}\n",
              "</style>\n"
            ],
            "text/plain": [
              "<IPython.core.display.HTML object>"
            ]
          },
          "metadata": {},
          "output_type": "display_data"
        },
        {
          "ename": "AttributeError",
          "evalue": "ignored",
          "output_type": "error",
          "traceback": [
            "\u001b[0;31m---------------------------------------------------------------------------\u001b[0m",
            "\u001b[0;31mAttributeError\u001b[0m                            Traceback (most recent call last)",
            "\u001b[0;32m<ipython-input-36-88c00b8fe603>\u001b[0m in \u001b[0;36m<cell line: 3>\u001b[0;34m()\u001b[0m\n\u001b[1;32m      1\u001b[0m \u001b[0mray_trainer\u001b[0m \u001b[0;34m=\u001b[0m \u001b[0mTorchTrainer\u001b[0m\u001b[0;34m(\u001b[0m\u001b[0mtrain_func\u001b[0m\u001b[0;34m,\u001b[0m \u001b[0mscaling_config\u001b[0m\u001b[0;34m=\u001b[0m\u001b[0mScalingConfig\u001b[0m\u001b[0;34m(\u001b[0m\u001b[0muse_gpu\u001b[0m\u001b[0;34m=\u001b[0m\u001b[0;32mTrue\u001b[0m\u001b[0;34m,\u001b[0m \u001b[0mnum_workers\u001b[0m\u001b[0;34m=\u001b[0m\u001b[0;36m2\u001b[0m\u001b[0;34m)\u001b[0m\u001b[0;34m)\u001b[0m\u001b[0;34m\u001b[0m\u001b[0;34m\u001b[0m\u001b[0m\n\u001b[1;32m      2\u001b[0m \u001b[0mray_trainer\u001b[0m\u001b[0;34m.\u001b[0m\u001b[0mfit\u001b[0m\u001b[0;34m(\u001b[0m\u001b[0;34m)\u001b[0m\u001b[0;34m\u001b[0m\u001b[0;34m\u001b[0m\u001b[0m\n\u001b[0;32m----> 3\u001b[0;31m \u001b[0mbest_metric\u001b[0m\u001b[0;34m,\u001b[0m \u001b[0mmodel_state_dict\u001b[0m \u001b[0;34m=\u001b[0m \u001b[0mray_trainer\u001b[0m\u001b[0;34m.\u001b[0m\u001b[0mfetch_result\u001b[0m\u001b[0;34m(\u001b[0m\u001b[0;34m)\u001b[0m\u001b[0;34m\u001b[0m\u001b[0;34m\u001b[0m\u001b[0m\n\u001b[0m\u001b[1;32m      4\u001b[0m \u001b[0mprint\u001b[0m\u001b[0;34m(\u001b[0m\u001b[0;34mf\"Best metric: {best_metric}\"\u001b[0m\u001b[0;34m)\u001b[0m\u001b[0;34m\u001b[0m\u001b[0;34m\u001b[0m\u001b[0m\n\u001b[1;32m      5\u001b[0m \u001b[0;34m\u001b[0m\u001b[0m\n",
            "\u001b[0;31mAttributeError\u001b[0m: 'TorchTrainer' object has no attribute 'fetch_result'"
          ]
        }
      ],
      "source": [
        "\n",
        "ray_trainer = TorchTrainer(train_func, scaling_config=ScalingConfig(use_gpu=True, num_workers=2))\n",
        "ray_trainer.fit()\n",
        "best_metric, model_state_dict = ray_trainer.fetch_result()\n",
        "print(f\"Best metric: {best_metric}\")\n",
        "\n",
        "trained_model = DistilBertForSequenceClassification.from_pretrained(\"distilbert-base-uncased\", num_labels=20)\n",
        "trained_model.load_state_dict(model_state_dict)"
      ]
    },
    {
      "cell_type": "markdown",
      "metadata": {
        "id": "1jip57Z7HsQ5"
      },
      "source": [
        "## Train in serial"
      ]
    },
    {
      "cell_type": "code",
      "execution_count": null,
      "metadata": {
        "id": "i2JnYy6f3Zrv"
      },
      "outputs": [],
      "source": [
        "class TextClassificationDataset(Dataset):\n",
        "    def __init__(self, encodings, labels):\n",
        "        self.encodings = encodings\n",
        "        self.labels = labels\n",
        "        \n",
        "    def __len__(self):\n",
        "        return len(self.labels)\n",
        "\n",
        "    def __getitem__(self, idx):\n",
        "        item = {key: val[idx].clone().detach() for key, val in self.encodings.items()}\n",
        "        item[\"labels\"] = torch.tensor(self.labels[idx], dtype=torch.long)\n",
        "        return item\n"
      ]
    },
    {
      "cell_type": "code",
      "execution_count": null,
      "metadata": {
        "colab": {
          "base_uri": "https://localhost:8080/",
          "height": 49,
          "referenced_widgets": [
            "91a558e76f9f43f4a4545a4294d6487b",
            "1be6a27221394b19a2955539653e7d0c",
            "ba00ae0a2aa34f898c588623a1679c46",
            "cdd8f18de64943e28ea6163eb7c9234e",
            "9b1ca1839f194a95bd4fba0147454543",
            "ec44f969161a40d8b77f53159fa5b4fd",
            "3946ac71337d42928c06919a166a1ecf",
            "c70334004616428690706cc04bf711a3",
            "6d5ada9f567641229fab7717ddd24b77",
            "2d717dfd82cd49adb85b940b11b44138",
            "f9f8683b0a524064b25a3f8b2d13f804"
          ]
        },
        "id": "Yh-wyLcPf72W",
        "outputId": "47cae1a8-9a95-4c0c-bcb2-159e240555d3"
      },
      "outputs": [
        {
          "data": {
            "application/vnd.jupyter.widget-view+json": {
              "model_id": "91a558e76f9f43f4a4545a4294d6487b",
              "version_major": 2,
              "version_minor": 0
            },
            "text/plain": [
              "Extracting important chunks (train set):   0%|          | 0/4000 [00:00<?, ?it/s]"
            ]
          },
          "metadata": {},
          "output_type": "display_data"
        }
      ],
      "source": [
        "# Train DistilBERT\n",
        "tokenizer = DistilBertTokenizer.from_pretrained(\"distilbert-base-uncased\")\n",
        "model = DistilBertForSequenceClassification.from_pretrained(\"distilbert-base-uncased\", num_labels=20)\n",
        "\n",
        "def tokenize(text):\n",
        "    return tokenizer(text, padding=\"max_length\", truncation=True, max_length=256, return_tensors=\"pt\")\n",
        "\n"
      ]
    },
    {
      "cell_type": "code",
      "execution_count": null,
      "metadata": {
        "id": "AgantQLDgyet"
      },
      "outputs": [],
      "source": [
        "train_encodings = tokenize(train_texts)\n",
        "train_dataset = TextClassificationDataset(train_encodings, train_labels)\n"
      ]
    },
    {
      "cell_type": "code",
      "execution_count": null,
      "metadata": {
        "colab": {
          "base_uri": "https://localhost:8080/",
          "height": 384
        },
        "id": "JRVcIUyY_A6h",
        "outputId": "799e9dd4-95d0-49ae-ee24-17c4d707a038"
      },
      "outputs": [
        {
          "name": "stderr",
          "output_type": "stream",
          "text": [
            "/usr/local/lib/python3.9/dist-packages/transformers/optimization.py:391: FutureWarning: This implementation of AdamW is deprecated and will be removed in a future version. Use the PyTorch implementation torch.optim.AdamW instead, or set `no_deprecation_warning=True` to disable this warning\n",
            "  warnings.warn(\n"
          ]
        },
        {
          "data": {
            "text/html": [
              "\n",
              "    <div>\n",
              "      \n",
              "      <progress value='3750' max='3750' style='width:300px; height:20px; vertical-align: middle;'></progress>\n",
              "      [3750/3750 21:22, Epoch 3/3]\n",
              "    </div>\n",
              "    <table border=\"1\" class=\"dataframe\">\n",
              "  <thead>\n",
              " <tr style=\"text-align: left;\">\n",
              "      <th>Step</th>\n",
              "      <th>Training Loss</th>\n",
              "    </tr>\n",
              "  </thead>\n",
              "  <tbody>\n",
              "    <tr>\n",
              "      <td>500</td>\n",
              "      <td>2.043600</td>\n",
              "    </tr>\n",
              "    <tr>\n",
              "      <td>1000</td>\n",
              "      <td>1.141500</td>\n",
              "    </tr>\n",
              "    <tr>\n",
              "      <td>1500</td>\n",
              "      <td>0.869300</td>\n",
              "    </tr>\n",
              "    <tr>\n",
              "      <td>2000</td>\n",
              "      <td>0.682300</td>\n",
              "    </tr>\n",
              "    <tr>\n",
              "      <td>2500</td>\n",
              "      <td>0.614000</td>\n",
              "    </tr>\n",
              "    <tr>\n",
              "      <td>3000</td>\n",
              "      <td>0.344000</td>\n",
              "    </tr>\n",
              "    <tr>\n",
              "      <td>3500</td>\n",
              "      <td>0.325800</td>\n",
              "    </tr>\n",
              "  </tbody>\n",
              "</table><p>"
            ],
            "text/plain": [
              "<IPython.core.display.HTML object>"
            ]
          },
          "metadata": {},
          "output_type": "display_data"
        },
        {
          "data": {
            "text/plain": [
              "TrainOutput(global_step=3750, training_loss=0.822551416015625, metrics={'train_runtime': 1282.637, 'train_samples_per_second': 46.755, 'train_steps_per_second': 2.924, 'total_flos': 3973309989580800.0, 'train_loss': 0.822551416015625, 'epoch': 3.0})"
            ]
          },
          "execution_count": 16,
          "metadata": {},
          "output_type": "execute_result"
        }
      ],
      "source": [
        "training_args = TrainingArguments(\n",
        "    output_dir=\"./results\", \n",
        "    num_train_epochs=3,\n",
        "    per_device_train_batch_size=16, \n",
        "    warmup_steps=500, \n",
        "    weight_decay=0.01,\n",
        "    # learning_rate=5e-5,\n",
        "    # lr_scheduler_type=\"linear\",\n",
        "    # enable data parallelism \n",
        "    # model_parallel = True,\n",
        ")\n",
        "# print(training_args.n_gpu)\n",
        "# print(training_args.)\n",
        "trainer = Trainer(model=model, args=training_args, train_dataset=train_dataset, tokenizer=tokenizer)\n",
        "trainer.train()"
      ]
    },
    {
      "cell_type": "code",
      "execution_count": null,
      "metadata": {
        "id": "Mu92acy-9Spt"
      },
      "outputs": [],
      "source": [
        "from ray.air import ScalingConfig\n",
        "from ray.train.torch import TorchTrainer, TorchConfig\n",
        "\n",
        "trainer = TorchTrainer(\n",
        "    train_func,\n",
        "    torch_backend=TorchConfig(...),\n",
        "    scaling_config=ScalingConfig(num_workers=2),\n",
        ")"
      ]
    },
    {
      "cell_type": "markdown",
      "metadata": {
        "id": "vhXQM_MvXkIW"
      },
      "source": [
        "# Evaluate the Model"
      ]
    },
    {
      "cell_type": "code",
      "execution_count": null,
      "metadata": {
        "colab": {
          "base_uri": "https://localhost:8080/",
          "height": 81,
          "referenced_widgets": [
            "d599ccefcfed4b0eb0419c79aa2a8649",
            "a8900a08d94f48158178faa0fb0bbac2",
            "33f12efa23c44108aa293645b213b320",
            "568b01f4f5ac44a8bafc38a2b722215e",
            "d96f34d715df4d32b180f9d42b90086c",
            "0283a119c60d4f25a3d2a6f14a422414",
            "708fc4ee67334b7ca3fd082ed01d280c",
            "23c475d9f9e947928dc4cfb0e35452fa",
            "4ea6f6e8142a4707adc960f548996e34",
            "5b4f9ee907ed417d893b6b4ad4a99981",
            "0e39291f7de049b99235f464c5eefe42",
            "3a2385e359c9426abd6afd7aff6556cc",
            "35f3aa1b13724a228928c8e9cab49b52",
            "5bb0bd75bbcb4f0fb6089b2d0b1fa2b1",
            "41d1f9eb7bf845188fcd9a9096603860",
            "03f1e93695344502bce9331f03948b04",
            "f7243587bdbd4658ab0c6e11c5502f90",
            "d73387a0ae45460e8cea3872ce4d7fde",
            "7f5f7e6849624c2ba607568acf5ed5a4",
            "2314acc4f97f4db7af210c8075c8cc43",
            "426761c5933749cdb400dc2e94befb38",
            "2c2645d183424c7ebebd1c5f5efd8b19"
          ]
        },
        "id": "HBvK1PnY-m-O",
        "outputId": "f3610051-a3f1-4f76-8f7c-23d8ddef8c3f"
      },
      "outputs": [
        {
          "data": {
            "application/vnd.jupyter.widget-view+json": {
              "model_id": "d599ccefcfed4b0eb0419c79aa2a8649",
              "version_major": 2,
              "version_minor": 0
            },
            "text/plain": [
              "Extracting important chunks (test set):   0%|          | 0/1000 [00:00<?, ?it/s]"
            ]
          },
          "metadata": {},
          "output_type": "display_data"
        },
        {
          "data": {
            "application/vnd.jupyter.widget-view+json": {
              "model_id": "3a2385e359c9426abd6afd7aff6556cc",
              "version_major": 2,
              "version_minor": 0
            },
            "text/plain": [
              "Predicting:   0%|          | 0/1000 [00:00<?, ?it/s]"
            ]
          },
          "metadata": {},
          "output_type": "display_data"
        }
      ],
      "source": [
        "\n",
        "# Test and evaluate the classifier\n",
        "text_chunks = [get_important_chunks_lda_euclidean(text) for text in tqdm(X_test, desc=\"Extracting important chunks (test set)\")]\n",
        "\n",
        "# 1. Tokenize the important chunks for each document in the test set\n",
        "test_encodings = [tokenize(chunks) for chunks in text_chunks]\n",
        "\n",
        "# 2. Make predictions for each chunk in each document using the trained model\n",
        "predicted_labels_nested = []\n",
        "model.eval()  # Set the model to evaluation mode\n",
        "for encodings in tqdm(test_encodings, desc=\"Predicting\"):\n",
        "    with torch.no_grad():\n",
        "        input_ids = encodings[\"input_ids\"].to(training_args.device)\n",
        "        attention_mask = encodings[\"attention_mask\"].to(training_args.device)\n",
        "        logits = model(input_ids, attention_mask=attention_mask).logits\n",
        "        probabilities = torch.softmax(logits, dim=1).cpu().numpy()\n",
        "        labels = np.argmax(probabilities, axis=1)\n",
        "        predicted_labels_nested.append(labels)\n",
        "        "
      ]
    },
    {
      "cell_type": "code",
      "execution_count": null,
      "metadata": {
        "colab": {
          "base_uri": "https://localhost:8080/"
        },
        "id": "vXUHQASbTgF_",
        "outputId": "436864bc-fc04-4c05-8852-b474dda58544"
      },
      "outputs": [
        {
          "name": "stdout",
          "output_type": "stream",
          "text": [
            "              precision    recall  f1-score   support\n",
            "\n",
            "           0       0.74      0.64      0.69        50\n",
            "           1       0.74      0.74      0.74        34\n",
            "           2       0.79      0.79      0.79        43\n",
            "           3       0.74      0.77      0.75        26\n",
            "           4       0.82      0.82      0.82        28\n",
            "           5       0.90      0.92      0.91        66\n",
            "           6       0.90      0.87      0.88        30\n",
            "           7       0.94      0.89      0.92        37\n",
            "           8       0.94      1.00      0.97        31\n",
            "           9       0.95      0.91      0.93        46\n",
            "          10       0.94      0.96      0.95        49\n",
            "          11       0.87      0.85      0.86        65\n",
            "          12       0.77      0.96      0.85        24\n",
            "          13       0.94      0.94      0.94        66\n",
            "          14       0.98      0.89      0.93        64\n",
            "          15       0.76      0.88      0.82        94\n",
            "          16       0.81      0.90      0.85        60\n",
            "          17       0.93      0.99      0.96        85\n",
            "          18       0.74      0.75      0.74        60\n",
            "          19       0.55      0.29      0.37        42\n",
            "\n",
            "    accuracy                           0.85      1000\n",
            "   macro avg       0.84      0.84      0.83      1000\n",
            "weighted avg       0.85      0.85      0.84      1000\n",
            "\n"
          ]
        }
      ],
      "source": [
        "\n",
        "def majority_voting(labels):\n",
        "    counter = Counter(labels)\n",
        "    majority_label = counter.most_common(1)[0][0]\n",
        "    return majority_label\n",
        "\n",
        "document_labels = [majority_voting(chunk_labels) for chunk_labels in predicted_labels_nested]\n",
        "\n",
        "# Compute the classification report\n",
        "report = classification_report(y_test, document_labels)\n",
        "\n",
        "print(report)"
      ]
    }
  ],
  "metadata": {
    "colab": {
      "provenance": []
    },
    "gpuClass": "standard",
    "kernelspec": {
      "display_name": "Python 3",
      "language": "python",
      "name": "python3"
    },
    "language_info": {
      "codemirror_mode": {
        "name": "ipython",
        "version": 3
      },
      "file_extension": ".py",
      "mimetype": "text/x-python",
      "name": "python",
      "nbconvert_exporter": "python",
      "pygments_lexer": "ipython3",
      "version": "3.8.5"
    },
    "widgets": {
      "application/vnd.jupyter.widget-state+json": {
        "007ce2aba6a54638bbf636402246690b": {
          "model_module": "@jupyter-widgets/controls",
          "model_module_version": "1.5.0",
          "model_name": "HTMLModel",
          "state": {
            "_dom_classes": [],
            "_model_module": "@jupyter-widgets/controls",
            "_model_module_version": "1.5.0",
            "_model_name": "HTMLModel",
            "_view_count": null,
            "_view_module": "@jupyter-widgets/controls",
            "_view_module_version": "1.5.0",
            "_view_name": "HTMLView",
            "description": "",
            "description_tooltip": null,
            "layout": "IPY_MODEL_d191dacc27bd421f8afbf6b750228924",
            "placeholder": "​",
            "style": "IPY_MODEL_0230616d362746caa0bb7434bbf89f78",
            "value": "Preprocessing texts: 100%"
          }
        },
        "0230616d362746caa0bb7434bbf89f78": {
          "model_module": "@jupyter-widgets/controls",
          "model_module_version": "1.5.0",
          "model_name": "DescriptionStyleModel",
          "state": {
            "_model_module": "@jupyter-widgets/controls",
            "_model_module_version": "1.5.0",
            "_model_name": "DescriptionStyleModel",
            "_view_count": null,
            "_view_module": "@jupyter-widgets/base",
            "_view_module_version": "1.2.0",
            "_view_name": "StyleView",
            "description_width": ""
          }
        },
        "0283a119c60d4f25a3d2a6f14a422414": {
          "model_module": "@jupyter-widgets/base",
          "model_module_version": "1.2.0",
          "model_name": "LayoutModel",
          "state": {
            "_model_module": "@jupyter-widgets/base",
            "_model_module_version": "1.2.0",
            "_model_name": "LayoutModel",
            "_view_count": null,
            "_view_module": "@jupyter-widgets/base",
            "_view_module_version": "1.2.0",
            "_view_name": "LayoutView",
            "align_content": null,
            "align_items": null,
            "align_self": null,
            "border": null,
            "bottom": null,
            "display": null,
            "flex": null,
            "flex_flow": null,
            "grid_area": null,
            "grid_auto_columns": null,
            "grid_auto_flow": null,
            "grid_auto_rows": null,
            "grid_column": null,
            "grid_gap": null,
            "grid_row": null,
            "grid_template_areas": null,
            "grid_template_columns": null,
            "grid_template_rows": null,
            "height": null,
            "justify_content": null,
            "justify_items": null,
            "left": null,
            "margin": null,
            "max_height": null,
            "max_width": null,
            "min_height": null,
            "min_width": null,
            "object_fit": null,
            "object_position": null,
            "order": null,
            "overflow": null,
            "overflow_x": null,
            "overflow_y": null,
            "padding": null,
            "right": null,
            "top": null,
            "visibility": null,
            "width": null
          }
        },
        "03f1e93695344502bce9331f03948b04": {
          "model_module": "@jupyter-widgets/base",
          "model_module_version": "1.2.0",
          "model_name": "LayoutModel",
          "state": {
            "_model_module": "@jupyter-widgets/base",
            "_model_module_version": "1.2.0",
            "_model_name": "LayoutModel",
            "_view_count": null,
            "_view_module": "@jupyter-widgets/base",
            "_view_module_version": "1.2.0",
            "_view_name": "LayoutView",
            "align_content": null,
            "align_items": null,
            "align_self": null,
            "border": null,
            "bottom": null,
            "display": null,
            "flex": null,
            "flex_flow": null,
            "grid_area": null,
            "grid_auto_columns": null,
            "grid_auto_flow": null,
            "grid_auto_rows": null,
            "grid_column": null,
            "grid_gap": null,
            "grid_row": null,
            "grid_template_areas": null,
            "grid_template_columns": null,
            "grid_template_rows": null,
            "height": null,
            "justify_content": null,
            "justify_items": null,
            "left": null,
            "margin": null,
            "max_height": null,
            "max_width": null,
            "min_height": null,
            "min_width": null,
            "object_fit": null,
            "object_position": null,
            "order": null,
            "overflow": null,
            "overflow_x": null,
            "overflow_y": null,
            "padding": null,
            "right": null,
            "top": null,
            "visibility": null,
            "width": null
          }
        },
        "0bb154ba5f55486cac19b45398e16a74": {
          "model_module": "@jupyter-widgets/base",
          "model_module_version": "1.2.0",
          "model_name": "LayoutModel",
          "state": {
            "_model_module": "@jupyter-widgets/base",
            "_model_module_version": "1.2.0",
            "_model_name": "LayoutModel",
            "_view_count": null,
            "_view_module": "@jupyter-widgets/base",
            "_view_module_version": "1.2.0",
            "_view_name": "LayoutView",
            "align_content": null,
            "align_items": null,
            "align_self": null,
            "border": null,
            "bottom": null,
            "display": null,
            "flex": null,
            "flex_flow": null,
            "grid_area": null,
            "grid_auto_columns": null,
            "grid_auto_flow": null,
            "grid_auto_rows": null,
            "grid_column": null,
            "grid_gap": null,
            "grid_row": null,
            "grid_template_areas": null,
            "grid_template_columns": null,
            "grid_template_rows": null,
            "height": null,
            "justify_content": null,
            "justify_items": null,
            "left": null,
            "margin": null,
            "max_height": null,
            "max_width": null,
            "min_height": null,
            "min_width": null,
            "object_fit": null,
            "object_position": null,
            "order": null,
            "overflow": null,
            "overflow_x": null,
            "overflow_y": null,
            "padding": null,
            "right": null,
            "top": null,
            "visibility": null,
            "width": null
          }
        },
        "0e39291f7de049b99235f464c5eefe42": {
          "model_module": "@jupyter-widgets/controls",
          "model_module_version": "1.5.0",
          "model_name": "DescriptionStyleModel",
          "state": {
            "_model_module": "@jupyter-widgets/controls",
            "_model_module_version": "1.5.0",
            "_model_name": "DescriptionStyleModel",
            "_view_count": null,
            "_view_module": "@jupyter-widgets/base",
            "_view_module_version": "1.2.0",
            "_view_name": "StyleView",
            "description_width": ""
          }
        },
        "10332cd3de20413a9d35627a48995dd2": {
          "model_module": "@jupyter-widgets/base",
          "model_module_version": "1.2.0",
          "model_name": "LayoutModel",
          "state": {
            "_model_module": "@jupyter-widgets/base",
            "_model_module_version": "1.2.0",
            "_model_name": "LayoutModel",
            "_view_count": null,
            "_view_module": "@jupyter-widgets/base",
            "_view_module_version": "1.2.0",
            "_view_name": "LayoutView",
            "align_content": null,
            "align_items": null,
            "align_self": null,
            "border": null,
            "bottom": null,
            "display": null,
            "flex": null,
            "flex_flow": null,
            "grid_area": null,
            "grid_auto_columns": null,
            "grid_auto_flow": null,
            "grid_auto_rows": null,
            "grid_column": null,
            "grid_gap": null,
            "grid_row": null,
            "grid_template_areas": null,
            "grid_template_columns": null,
            "grid_template_rows": null,
            "height": null,
            "justify_content": null,
            "justify_items": null,
            "left": null,
            "margin": null,
            "max_height": null,
            "max_width": null,
            "min_height": null,
            "min_width": null,
            "object_fit": null,
            "object_position": null,
            "order": null,
            "overflow": null,
            "overflow_x": null,
            "overflow_y": null,
            "padding": null,
            "right": null,
            "top": null,
            "visibility": null,
            "width": null
          }
        },
        "180982a34185447eb1ea5e239fdef85f": {
          "model_module": "@jupyter-widgets/controls",
          "model_module_version": "1.5.0",
          "model_name": "HTMLModel",
          "state": {
            "_dom_classes": [],
            "_model_module": "@jupyter-widgets/controls",
            "_model_module_version": "1.5.0",
            "_model_name": "HTMLModel",
            "_view_count": null,
            "_view_module": "@jupyter-widgets/controls",
            "_view_module_version": "1.5.0",
            "_view_name": "HTMLView",
            "description": "",
            "description_tooltip": null,
            "layout": "IPY_MODEL_ba1fc46ff98249ab8d86aa6dcbf04593",
            "placeholder": "​",
            "style": "IPY_MODEL_3c275154fb614817b07378360778dea4",
            "value": "Preprocessing texts: 100%"
          }
        },
        "1be6a27221394b19a2955539653e7d0c": {
          "model_module": "@jupyter-widgets/controls",
          "model_module_version": "1.5.0",
          "model_name": "HTMLModel",
          "state": {
            "_dom_classes": [],
            "_model_module": "@jupyter-widgets/controls",
            "_model_module_version": "1.5.0",
            "_model_name": "HTMLModel",
            "_view_count": null,
            "_view_module": "@jupyter-widgets/controls",
            "_view_module_version": "1.5.0",
            "_view_name": "HTMLView",
            "description": "",
            "description_tooltip": null,
            "layout": "IPY_MODEL_ec44f969161a40d8b77f53159fa5b4fd",
            "placeholder": "​",
            "style": "IPY_MODEL_3946ac71337d42928c06919a166a1ecf",
            "value": "Extracting important chunks (train set): 100%"
          }
        },
        "2314acc4f97f4db7af210c8075c8cc43": {
          "model_module": "@jupyter-widgets/controls",
          "model_module_version": "1.5.0",
          "model_name": "ProgressStyleModel",
          "state": {
            "_model_module": "@jupyter-widgets/controls",
            "_model_module_version": "1.5.0",
            "_model_name": "ProgressStyleModel",
            "_view_count": null,
            "_view_module": "@jupyter-widgets/base",
            "_view_module_version": "1.2.0",
            "_view_name": "StyleView",
            "bar_color": null,
            "description_width": ""
          }
        },
        "23c475d9f9e947928dc4cfb0e35452fa": {
          "model_module": "@jupyter-widgets/base",
          "model_module_version": "1.2.0",
          "model_name": "LayoutModel",
          "state": {
            "_model_module": "@jupyter-widgets/base",
            "_model_module_version": "1.2.0",
            "_model_name": "LayoutModel",
            "_view_count": null,
            "_view_module": "@jupyter-widgets/base",
            "_view_module_version": "1.2.0",
            "_view_name": "LayoutView",
            "align_content": null,
            "align_items": null,
            "align_self": null,
            "border": null,
            "bottom": null,
            "display": null,
            "flex": null,
            "flex_flow": null,
            "grid_area": null,
            "grid_auto_columns": null,
            "grid_auto_flow": null,
            "grid_auto_rows": null,
            "grid_column": null,
            "grid_gap": null,
            "grid_row": null,
            "grid_template_areas": null,
            "grid_template_columns": null,
            "grid_template_rows": null,
            "height": null,
            "justify_content": null,
            "justify_items": null,
            "left": null,
            "margin": null,
            "max_height": null,
            "max_width": null,
            "min_height": null,
            "min_width": null,
            "object_fit": null,
            "object_position": null,
            "order": null,
            "overflow": null,
            "overflow_x": null,
            "overflow_y": null,
            "padding": null,
            "right": null,
            "top": null,
            "visibility": null,
            "width": null
          }
        },
        "2a1bcba4e87d427886fe67cd9b105136": {
          "model_module": "@jupyter-widgets/controls",
          "model_module_version": "1.5.0",
          "model_name": "FloatProgressModel",
          "state": {
            "_dom_classes": [],
            "_model_module": "@jupyter-widgets/controls",
            "_model_module_version": "1.5.0",
            "_model_name": "FloatProgressModel",
            "_view_count": null,
            "_view_module": "@jupyter-widgets/controls",
            "_view_module_version": "1.5.0",
            "_view_name": "ProgressView",
            "bar_style": "success",
            "description": "",
            "description_tooltip": null,
            "layout": "IPY_MODEL_4a7b00943ef84a0dafce8bad418656bb",
            "max": 18391,
            "min": 0,
            "orientation": "horizontal",
            "style": "IPY_MODEL_3613d0fa14c54321a9c736625e2dd51a",
            "value": 18391
          }
        },
        "2c2645d183424c7ebebd1c5f5efd8b19": {
          "model_module": "@jupyter-widgets/controls",
          "model_module_version": "1.5.0",
          "model_name": "DescriptionStyleModel",
          "state": {
            "_model_module": "@jupyter-widgets/controls",
            "_model_module_version": "1.5.0",
            "_model_name": "DescriptionStyleModel",
            "_view_count": null,
            "_view_module": "@jupyter-widgets/base",
            "_view_module_version": "1.2.0",
            "_view_name": "StyleView",
            "description_width": ""
          }
        },
        "2d717dfd82cd49adb85b940b11b44138": {
          "model_module": "@jupyter-widgets/base",
          "model_module_version": "1.2.0",
          "model_name": "LayoutModel",
          "state": {
            "_model_module": "@jupyter-widgets/base",
            "_model_module_version": "1.2.0",
            "_model_name": "LayoutModel",
            "_view_count": null,
            "_view_module": "@jupyter-widgets/base",
            "_view_module_version": "1.2.0",
            "_view_name": "LayoutView",
            "align_content": null,
            "align_items": null,
            "align_self": null,
            "border": null,
            "bottom": null,
            "display": null,
            "flex": null,
            "flex_flow": null,
            "grid_area": null,
            "grid_auto_columns": null,
            "grid_auto_flow": null,
            "grid_auto_rows": null,
            "grid_column": null,
            "grid_gap": null,
            "grid_row": null,
            "grid_template_areas": null,
            "grid_template_columns": null,
            "grid_template_rows": null,
            "height": null,
            "justify_content": null,
            "justify_items": null,
            "left": null,
            "margin": null,
            "max_height": null,
            "max_width": null,
            "min_height": null,
            "min_width": null,
            "object_fit": null,
            "object_position": null,
            "order": null,
            "overflow": null,
            "overflow_x": null,
            "overflow_y": null,
            "padding": null,
            "right": null,
            "top": null,
            "visibility": null,
            "width": null
          }
        },
        "33f12efa23c44108aa293645b213b320": {
          "model_module": "@jupyter-widgets/controls",
          "model_module_version": "1.5.0",
          "model_name": "FloatProgressModel",
          "state": {
            "_dom_classes": [],
            "_model_module": "@jupyter-widgets/controls",
            "_model_module_version": "1.5.0",
            "_model_name": "FloatProgressModel",
            "_view_count": null,
            "_view_module": "@jupyter-widgets/controls",
            "_view_module_version": "1.5.0",
            "_view_name": "ProgressView",
            "bar_style": "success",
            "description": "",
            "description_tooltip": null,
            "layout": "IPY_MODEL_23c475d9f9e947928dc4cfb0e35452fa",
            "max": 1000,
            "min": 0,
            "orientation": "horizontal",
            "style": "IPY_MODEL_4ea6f6e8142a4707adc960f548996e34",
            "value": 1000
          }
        },
        "35e89d6201164feb8e0f4bc3d7fdac98": {
          "model_module": "@jupyter-widgets/controls",
          "model_module_version": "1.5.0",
          "model_name": "FloatProgressModel",
          "state": {
            "_dom_classes": [],
            "_model_module": "@jupyter-widgets/controls",
            "_model_module_version": "1.5.0",
            "_model_name": "FloatProgressModel",
            "_view_count": null,
            "_view_module": "@jupyter-widgets/controls",
            "_view_module_version": "1.5.0",
            "_view_name": "ProgressView",
            "bar_style": "success",
            "description": "",
            "description_tooltip": null,
            "layout": "IPY_MODEL_becd76ef39c448d2a2666fdb11d8ad8b",
            "max": 18391,
            "min": 0,
            "orientation": "horizontal",
            "style": "IPY_MODEL_96f576590d054bc489322d62c08b3d46",
            "value": 18391
          }
        },
        "35f3aa1b13724a228928c8e9cab49b52": {
          "model_module": "@jupyter-widgets/controls",
          "model_module_version": "1.5.0",
          "model_name": "HTMLModel",
          "state": {
            "_dom_classes": [],
            "_model_module": "@jupyter-widgets/controls",
            "_model_module_version": "1.5.0",
            "_model_name": "HTMLModel",
            "_view_count": null,
            "_view_module": "@jupyter-widgets/controls",
            "_view_module_version": "1.5.0",
            "_view_name": "HTMLView",
            "description": "",
            "description_tooltip": null,
            "layout": "IPY_MODEL_f7243587bdbd4658ab0c6e11c5502f90",
            "placeholder": "​",
            "style": "IPY_MODEL_d73387a0ae45460e8cea3872ce4d7fde",
            "value": "Predicting: 100%"
          }
        },
        "3613d0fa14c54321a9c736625e2dd51a": {
          "model_module": "@jupyter-widgets/controls",
          "model_module_version": "1.5.0",
          "model_name": "ProgressStyleModel",
          "state": {
            "_model_module": "@jupyter-widgets/controls",
            "_model_module_version": "1.5.0",
            "_model_name": "ProgressStyleModel",
            "_view_count": null,
            "_view_module": "@jupyter-widgets/base",
            "_view_module_version": "1.2.0",
            "_view_name": "StyleView",
            "bar_color": null,
            "description_width": ""
          }
        },
        "3946ac71337d42928c06919a166a1ecf": {
          "model_module": "@jupyter-widgets/controls",
          "model_module_version": "1.5.0",
          "model_name": "DescriptionStyleModel",
          "state": {
            "_model_module": "@jupyter-widgets/controls",
            "_model_module_version": "1.5.0",
            "_model_name": "DescriptionStyleModel",
            "_view_count": null,
            "_view_module": "@jupyter-widgets/base",
            "_view_module_version": "1.2.0",
            "_view_name": "StyleView",
            "description_width": ""
          }
        },
        "3a2385e359c9426abd6afd7aff6556cc": {
          "model_module": "@jupyter-widgets/controls",
          "model_module_version": "1.5.0",
          "model_name": "HBoxModel",
          "state": {
            "_dom_classes": [],
            "_model_module": "@jupyter-widgets/controls",
            "_model_module_version": "1.5.0",
            "_model_name": "HBoxModel",
            "_view_count": null,
            "_view_module": "@jupyter-widgets/controls",
            "_view_module_version": "1.5.0",
            "_view_name": "HBoxView",
            "box_style": "",
            "children": [
              "IPY_MODEL_35f3aa1b13724a228928c8e9cab49b52",
              "IPY_MODEL_5bb0bd75bbcb4f0fb6089b2d0b1fa2b1",
              "IPY_MODEL_41d1f9eb7bf845188fcd9a9096603860"
            ],
            "layout": "IPY_MODEL_03f1e93695344502bce9331f03948b04"
          }
        },
        "3c275154fb614817b07378360778dea4": {
          "model_module": "@jupyter-widgets/controls",
          "model_module_version": "1.5.0",
          "model_name": "DescriptionStyleModel",
          "state": {
            "_model_module": "@jupyter-widgets/controls",
            "_model_module_version": "1.5.0",
            "_model_name": "DescriptionStyleModel",
            "_view_count": null,
            "_view_module": "@jupyter-widgets/base",
            "_view_module_version": "1.2.0",
            "_view_name": "StyleView",
            "description_width": ""
          }
        },
        "41d1f9eb7bf845188fcd9a9096603860": {
          "model_module": "@jupyter-widgets/controls",
          "model_module_version": "1.5.0",
          "model_name": "HTMLModel",
          "state": {
            "_dom_classes": [],
            "_model_module": "@jupyter-widgets/controls",
            "_model_module_version": "1.5.0",
            "_model_name": "HTMLModel",
            "_view_count": null,
            "_view_module": "@jupyter-widgets/controls",
            "_view_module_version": "1.5.0",
            "_view_name": "HTMLView",
            "description": "",
            "description_tooltip": null,
            "layout": "IPY_MODEL_426761c5933749cdb400dc2e94befb38",
            "placeholder": "​",
            "style": "IPY_MODEL_2c2645d183424c7ebebd1c5f5efd8b19",
            "value": " 1000/1000 [00:36&lt;00:00, 26.98it/s]"
          }
        },
        "426761c5933749cdb400dc2e94befb38": {
          "model_module": "@jupyter-widgets/base",
          "model_module_version": "1.2.0",
          "model_name": "LayoutModel",
          "state": {
            "_model_module": "@jupyter-widgets/base",
            "_model_module_version": "1.2.0",
            "_model_name": "LayoutModel",
            "_view_count": null,
            "_view_module": "@jupyter-widgets/base",
            "_view_module_version": "1.2.0",
            "_view_name": "LayoutView",
            "align_content": null,
            "align_items": null,
            "align_self": null,
            "border": null,
            "bottom": null,
            "display": null,
            "flex": null,
            "flex_flow": null,
            "grid_area": null,
            "grid_auto_columns": null,
            "grid_auto_flow": null,
            "grid_auto_rows": null,
            "grid_column": null,
            "grid_gap": null,
            "grid_row": null,
            "grid_template_areas": null,
            "grid_template_columns": null,
            "grid_template_rows": null,
            "height": null,
            "justify_content": null,
            "justify_items": null,
            "left": null,
            "margin": null,
            "max_height": null,
            "max_width": null,
            "min_height": null,
            "min_width": null,
            "object_fit": null,
            "object_position": null,
            "order": null,
            "overflow": null,
            "overflow_x": null,
            "overflow_y": null,
            "padding": null,
            "right": null,
            "top": null,
            "visibility": null,
            "width": null
          }
        },
        "446e94e8d3e74b9babed58322523dc92": {
          "model_module": "@jupyter-widgets/base",
          "model_module_version": "1.2.0",
          "model_name": "LayoutModel",
          "state": {
            "_model_module": "@jupyter-widgets/base",
            "_model_module_version": "1.2.0",
            "_model_name": "LayoutModel",
            "_view_count": null,
            "_view_module": "@jupyter-widgets/base",
            "_view_module_version": "1.2.0",
            "_view_name": "LayoutView",
            "align_content": null,
            "align_items": null,
            "align_self": null,
            "border": null,
            "bottom": null,
            "display": null,
            "flex": null,
            "flex_flow": null,
            "grid_area": null,
            "grid_auto_columns": null,
            "grid_auto_flow": null,
            "grid_auto_rows": null,
            "grid_column": null,
            "grid_gap": null,
            "grid_row": null,
            "grid_template_areas": null,
            "grid_template_columns": null,
            "grid_template_rows": null,
            "height": null,
            "justify_content": null,
            "justify_items": null,
            "left": null,
            "margin": null,
            "max_height": null,
            "max_width": null,
            "min_height": null,
            "min_width": null,
            "object_fit": null,
            "object_position": null,
            "order": null,
            "overflow": null,
            "overflow_x": null,
            "overflow_y": null,
            "padding": null,
            "right": null,
            "top": null,
            "visibility": null,
            "width": null
          }
        },
        "451ffcc860754c0b8053a477fe87a813": {
          "model_module": "@jupyter-widgets/controls",
          "model_module_version": "1.5.0",
          "model_name": "HBoxModel",
          "state": {
            "_dom_classes": [],
            "_model_module": "@jupyter-widgets/controls",
            "_model_module_version": "1.5.0",
            "_model_name": "HBoxModel",
            "_view_count": null,
            "_view_module": "@jupyter-widgets/controls",
            "_view_module_version": "1.5.0",
            "_view_name": "HBoxView",
            "box_style": "",
            "children": [
              "IPY_MODEL_007ce2aba6a54638bbf636402246690b",
              "IPY_MODEL_35e89d6201164feb8e0f4bc3d7fdac98",
              "IPY_MODEL_bf284d96d86c4ba881d56cf37ec1d1d9"
            ],
            "layout": "IPY_MODEL_c8f8e52169a14d8da090385673d74aa4"
          }
        },
        "4a7b00943ef84a0dafce8bad418656bb": {
          "model_module": "@jupyter-widgets/base",
          "model_module_version": "1.2.0",
          "model_name": "LayoutModel",
          "state": {
            "_model_module": "@jupyter-widgets/base",
            "_model_module_version": "1.2.0",
            "_model_name": "LayoutModel",
            "_view_count": null,
            "_view_module": "@jupyter-widgets/base",
            "_view_module_version": "1.2.0",
            "_view_name": "LayoutView",
            "align_content": null,
            "align_items": null,
            "align_self": null,
            "border": null,
            "bottom": null,
            "display": null,
            "flex": null,
            "flex_flow": null,
            "grid_area": null,
            "grid_auto_columns": null,
            "grid_auto_flow": null,
            "grid_auto_rows": null,
            "grid_column": null,
            "grid_gap": null,
            "grid_row": null,
            "grid_template_areas": null,
            "grid_template_columns": null,
            "grid_template_rows": null,
            "height": null,
            "justify_content": null,
            "justify_items": null,
            "left": null,
            "margin": null,
            "max_height": null,
            "max_width": null,
            "min_height": null,
            "min_width": null,
            "object_fit": null,
            "object_position": null,
            "order": null,
            "overflow": null,
            "overflow_x": null,
            "overflow_y": null,
            "padding": null,
            "right": null,
            "top": null,
            "visibility": null,
            "width": null
          }
        },
        "4d243607e780466dbabb93db5368ae85": {
          "model_module": "@jupyter-widgets/controls",
          "model_module_version": "1.5.0",
          "model_name": "HTMLModel",
          "state": {
            "_dom_classes": [],
            "_model_module": "@jupyter-widgets/controls",
            "_model_module_version": "1.5.0",
            "_model_name": "HTMLModel",
            "_view_count": null,
            "_view_module": "@jupyter-widgets/controls",
            "_view_module_version": "1.5.0",
            "_view_name": "HTMLView",
            "description": "",
            "description_tooltip": null,
            "layout": "IPY_MODEL_0bb154ba5f55486cac19b45398e16a74",
            "placeholder": "​",
            "style": "IPY_MODEL_8fffcbec93fa48f6b7ad4b85a562b2ba",
            "value": " 18391/18391 [01:28&lt;00:00, 408.05it/s]"
          }
        },
        "4ea6f6e8142a4707adc960f548996e34": {
          "model_module": "@jupyter-widgets/controls",
          "model_module_version": "1.5.0",
          "model_name": "ProgressStyleModel",
          "state": {
            "_model_module": "@jupyter-widgets/controls",
            "_model_module_version": "1.5.0",
            "_model_name": "ProgressStyleModel",
            "_view_count": null,
            "_view_module": "@jupyter-widgets/base",
            "_view_module_version": "1.2.0",
            "_view_name": "StyleView",
            "bar_color": null,
            "description_width": ""
          }
        },
        "568b01f4f5ac44a8bafc38a2b722215e": {
          "model_module": "@jupyter-widgets/controls",
          "model_module_version": "1.5.0",
          "model_name": "HTMLModel",
          "state": {
            "_dom_classes": [],
            "_model_module": "@jupyter-widgets/controls",
            "_model_module_version": "1.5.0",
            "_model_name": "HTMLModel",
            "_view_count": null,
            "_view_module": "@jupyter-widgets/controls",
            "_view_module_version": "1.5.0",
            "_view_name": "HTMLView",
            "description": "",
            "description_tooltip": null,
            "layout": "IPY_MODEL_5b4f9ee907ed417d893b6b4ad4a99981",
            "placeholder": "​",
            "style": "IPY_MODEL_0e39291f7de049b99235f464c5eefe42",
            "value": " 1000/1000 [00:47&lt;00:00, 34.66it/s]"
          }
        },
        "580c44da5f0f45efb1dc77720c028c58": {
          "model_module": "@jupyter-widgets/base",
          "model_module_version": "1.2.0",
          "model_name": "LayoutModel",
          "state": {
            "_model_module": "@jupyter-widgets/base",
            "_model_module_version": "1.2.0",
            "_model_name": "LayoutModel",
            "_view_count": null,
            "_view_module": "@jupyter-widgets/base",
            "_view_module_version": "1.2.0",
            "_view_name": "LayoutView",
            "align_content": null,
            "align_items": null,
            "align_self": null,
            "border": null,
            "bottom": null,
            "display": null,
            "flex": null,
            "flex_flow": null,
            "grid_area": null,
            "grid_auto_columns": null,
            "grid_auto_flow": null,
            "grid_auto_rows": null,
            "grid_column": null,
            "grid_gap": null,
            "grid_row": null,
            "grid_template_areas": null,
            "grid_template_columns": null,
            "grid_template_rows": null,
            "height": null,
            "justify_content": null,
            "justify_items": null,
            "left": null,
            "margin": null,
            "max_height": null,
            "max_width": null,
            "min_height": null,
            "min_width": null,
            "object_fit": null,
            "object_position": null,
            "order": null,
            "overflow": null,
            "overflow_x": null,
            "overflow_y": null,
            "padding": null,
            "right": null,
            "top": null,
            "visibility": null,
            "width": null
          }
        },
        "5b4f9ee907ed417d893b6b4ad4a99981": {
          "model_module": "@jupyter-widgets/base",
          "model_module_version": "1.2.0",
          "model_name": "LayoutModel",
          "state": {
            "_model_module": "@jupyter-widgets/base",
            "_model_module_version": "1.2.0",
            "_model_name": "LayoutModel",
            "_view_count": null,
            "_view_module": "@jupyter-widgets/base",
            "_view_module_version": "1.2.0",
            "_view_name": "LayoutView",
            "align_content": null,
            "align_items": null,
            "align_self": null,
            "border": null,
            "bottom": null,
            "display": null,
            "flex": null,
            "flex_flow": null,
            "grid_area": null,
            "grid_auto_columns": null,
            "grid_auto_flow": null,
            "grid_auto_rows": null,
            "grid_column": null,
            "grid_gap": null,
            "grid_row": null,
            "grid_template_areas": null,
            "grid_template_columns": null,
            "grid_template_rows": null,
            "height": null,
            "justify_content": null,
            "justify_items": null,
            "left": null,
            "margin": null,
            "max_height": null,
            "max_width": null,
            "min_height": null,
            "min_width": null,
            "object_fit": null,
            "object_position": null,
            "order": null,
            "overflow": null,
            "overflow_x": null,
            "overflow_y": null,
            "padding": null,
            "right": null,
            "top": null,
            "visibility": null,
            "width": null
          }
        },
        "5bb0bd75bbcb4f0fb6089b2d0b1fa2b1": {
          "model_module": "@jupyter-widgets/controls",
          "model_module_version": "1.5.0",
          "model_name": "FloatProgressModel",
          "state": {
            "_dom_classes": [],
            "_model_module": "@jupyter-widgets/controls",
            "_model_module_version": "1.5.0",
            "_model_name": "FloatProgressModel",
            "_view_count": null,
            "_view_module": "@jupyter-widgets/controls",
            "_view_module_version": "1.5.0",
            "_view_name": "ProgressView",
            "bar_style": "success",
            "description": "",
            "description_tooltip": null,
            "layout": "IPY_MODEL_7f5f7e6849624c2ba607568acf5ed5a4",
            "max": 1000,
            "min": 0,
            "orientation": "horizontal",
            "style": "IPY_MODEL_2314acc4f97f4db7af210c8075c8cc43",
            "value": 1000
          }
        },
        "6b2c1503508846e68fcf59913fc53784": {
          "model_module": "@jupyter-widgets/controls",
          "model_module_version": "1.5.0",
          "model_name": "ProgressStyleModel",
          "state": {
            "_model_module": "@jupyter-widgets/controls",
            "_model_module_version": "1.5.0",
            "_model_name": "ProgressStyleModel",
            "_view_count": null,
            "_view_module": "@jupyter-widgets/base",
            "_view_module_version": "1.2.0",
            "_view_name": "StyleView",
            "bar_color": null,
            "description_width": ""
          }
        },
        "6d5ada9f567641229fab7717ddd24b77": {
          "model_module": "@jupyter-widgets/controls",
          "model_module_version": "1.5.0",
          "model_name": "ProgressStyleModel",
          "state": {
            "_model_module": "@jupyter-widgets/controls",
            "_model_module_version": "1.5.0",
            "_model_name": "ProgressStyleModel",
            "_view_count": null,
            "_view_module": "@jupyter-widgets/base",
            "_view_module_version": "1.2.0",
            "_view_name": "StyleView",
            "bar_color": null,
            "description_width": ""
          }
        },
        "708fc4ee67334b7ca3fd082ed01d280c": {
          "model_module": "@jupyter-widgets/controls",
          "model_module_version": "1.5.0",
          "model_name": "DescriptionStyleModel",
          "state": {
            "_model_module": "@jupyter-widgets/controls",
            "_model_module_version": "1.5.0",
            "_model_name": "DescriptionStyleModel",
            "_view_count": null,
            "_view_module": "@jupyter-widgets/base",
            "_view_module_version": "1.2.0",
            "_view_name": "StyleView",
            "description_width": ""
          }
        },
        "788a2ec55c8b4744a76e27cacbece45e": {
          "model_module": "@jupyter-widgets/base",
          "model_module_version": "1.2.0",
          "model_name": "LayoutModel",
          "state": {
            "_model_module": "@jupyter-widgets/base",
            "_model_module_version": "1.2.0",
            "_model_name": "LayoutModel",
            "_view_count": null,
            "_view_module": "@jupyter-widgets/base",
            "_view_module_version": "1.2.0",
            "_view_name": "LayoutView",
            "align_content": null,
            "align_items": null,
            "align_self": null,
            "border": null,
            "bottom": null,
            "display": null,
            "flex": null,
            "flex_flow": null,
            "grid_area": null,
            "grid_auto_columns": null,
            "grid_auto_flow": null,
            "grid_auto_rows": null,
            "grid_column": null,
            "grid_gap": null,
            "grid_row": null,
            "grid_template_areas": null,
            "grid_template_columns": null,
            "grid_template_rows": null,
            "height": null,
            "justify_content": null,
            "justify_items": null,
            "left": null,
            "margin": null,
            "max_height": null,
            "max_width": null,
            "min_height": null,
            "min_width": null,
            "object_fit": null,
            "object_position": null,
            "order": null,
            "overflow": null,
            "overflow_x": null,
            "overflow_y": null,
            "padding": null,
            "right": null,
            "top": null,
            "visibility": null,
            "width": null
          }
        },
        "7f5f7e6849624c2ba607568acf5ed5a4": {
          "model_module": "@jupyter-widgets/base",
          "model_module_version": "1.2.0",
          "model_name": "LayoutModel",
          "state": {
            "_model_module": "@jupyter-widgets/base",
            "_model_module_version": "1.2.0",
            "_model_name": "LayoutModel",
            "_view_count": null,
            "_view_module": "@jupyter-widgets/base",
            "_view_module_version": "1.2.0",
            "_view_name": "LayoutView",
            "align_content": null,
            "align_items": null,
            "align_self": null,
            "border": null,
            "bottom": null,
            "display": null,
            "flex": null,
            "flex_flow": null,
            "grid_area": null,
            "grid_auto_columns": null,
            "grid_auto_flow": null,
            "grid_auto_rows": null,
            "grid_column": null,
            "grid_gap": null,
            "grid_row": null,
            "grid_template_areas": null,
            "grid_template_columns": null,
            "grid_template_rows": null,
            "height": null,
            "justify_content": null,
            "justify_items": null,
            "left": null,
            "margin": null,
            "max_height": null,
            "max_width": null,
            "min_height": null,
            "min_width": null,
            "object_fit": null,
            "object_position": null,
            "order": null,
            "overflow": null,
            "overflow_x": null,
            "overflow_y": null,
            "padding": null,
            "right": null,
            "top": null,
            "visibility": null,
            "width": null
          }
        },
        "813f7e0ec4a94ea485dfd5370f25f7f7": {
          "model_module": "@jupyter-widgets/controls",
          "model_module_version": "1.5.0",
          "model_name": "DescriptionStyleModel",
          "state": {
            "_model_module": "@jupyter-widgets/controls",
            "_model_module_version": "1.5.0",
            "_model_name": "DescriptionStyleModel",
            "_view_count": null,
            "_view_module": "@jupyter-widgets/base",
            "_view_module_version": "1.2.0",
            "_view_name": "StyleView",
            "description_width": ""
          }
        },
        "81787338f1584efe8c10a602746d7ea0": {
          "model_module": "@jupyter-widgets/controls",
          "model_module_version": "1.5.0",
          "model_name": "HBoxModel",
          "state": {
            "_dom_classes": [],
            "_model_module": "@jupyter-widgets/controls",
            "_model_module_version": "1.5.0",
            "_model_name": "HBoxModel",
            "_view_count": null,
            "_view_module": "@jupyter-widgets/controls",
            "_view_module_version": "1.5.0",
            "_view_name": "HBoxView",
            "box_style": "",
            "children": [
              "IPY_MODEL_bef792b328d14015a7a8a99d8d3815b8",
              "IPY_MODEL_b2cceb3424734e14b8cbb12c2e9eee62",
              "IPY_MODEL_f03c7ff55e51457bb2ae5a6709482301"
            ],
            "layout": "IPY_MODEL_e39774ec75934788975709071aac8758"
          }
        },
        "8fffcbec93fa48f6b7ad4b85a562b2ba": {
          "model_module": "@jupyter-widgets/controls",
          "model_module_version": "1.5.0",
          "model_name": "DescriptionStyleModel",
          "state": {
            "_model_module": "@jupyter-widgets/controls",
            "_model_module_version": "1.5.0",
            "_model_name": "DescriptionStyleModel",
            "_view_count": null,
            "_view_module": "@jupyter-widgets/base",
            "_view_module_version": "1.2.0",
            "_view_name": "StyleView",
            "description_width": ""
          }
        },
        "90856b7a55ba47af8d4894976e1568a8": {
          "model_module": "@jupyter-widgets/controls",
          "model_module_version": "1.5.0",
          "model_name": "DescriptionStyleModel",
          "state": {
            "_model_module": "@jupyter-widgets/controls",
            "_model_module_version": "1.5.0",
            "_model_name": "DescriptionStyleModel",
            "_view_count": null,
            "_view_module": "@jupyter-widgets/base",
            "_view_module_version": "1.2.0",
            "_view_name": "StyleView",
            "description_width": ""
          }
        },
        "91a558e76f9f43f4a4545a4294d6487b": {
          "model_module": "@jupyter-widgets/controls",
          "model_module_version": "1.5.0",
          "model_name": "HBoxModel",
          "state": {
            "_dom_classes": [],
            "_model_module": "@jupyter-widgets/controls",
            "_model_module_version": "1.5.0",
            "_model_name": "HBoxModel",
            "_view_count": null,
            "_view_module": "@jupyter-widgets/controls",
            "_view_module_version": "1.5.0",
            "_view_name": "HBoxView",
            "box_style": "",
            "children": [
              "IPY_MODEL_1be6a27221394b19a2955539653e7d0c",
              "IPY_MODEL_ba00ae0a2aa34f898c588623a1679c46",
              "IPY_MODEL_cdd8f18de64943e28ea6163eb7c9234e"
            ],
            "layout": "IPY_MODEL_9b1ca1839f194a95bd4fba0147454543"
          }
        },
        "96f576590d054bc489322d62c08b3d46": {
          "model_module": "@jupyter-widgets/controls",
          "model_module_version": "1.5.0",
          "model_name": "ProgressStyleModel",
          "state": {
            "_model_module": "@jupyter-widgets/controls",
            "_model_module_version": "1.5.0",
            "_model_name": "ProgressStyleModel",
            "_view_count": null,
            "_view_module": "@jupyter-widgets/base",
            "_view_module_version": "1.2.0",
            "_view_name": "StyleView",
            "bar_color": null,
            "description_width": ""
          }
        },
        "9b1ca1839f194a95bd4fba0147454543": {
          "model_module": "@jupyter-widgets/base",
          "model_module_version": "1.2.0",
          "model_name": "LayoutModel",
          "state": {
            "_model_module": "@jupyter-widgets/base",
            "_model_module_version": "1.2.0",
            "_model_name": "LayoutModel",
            "_view_count": null,
            "_view_module": "@jupyter-widgets/base",
            "_view_module_version": "1.2.0",
            "_view_name": "LayoutView",
            "align_content": null,
            "align_items": null,
            "align_self": null,
            "border": null,
            "bottom": null,
            "display": null,
            "flex": null,
            "flex_flow": null,
            "grid_area": null,
            "grid_auto_columns": null,
            "grid_auto_flow": null,
            "grid_auto_rows": null,
            "grid_column": null,
            "grid_gap": null,
            "grid_row": null,
            "grid_template_areas": null,
            "grid_template_columns": null,
            "grid_template_rows": null,
            "height": null,
            "justify_content": null,
            "justify_items": null,
            "left": null,
            "margin": null,
            "max_height": null,
            "max_width": null,
            "min_height": null,
            "min_width": null,
            "object_fit": null,
            "object_position": null,
            "order": null,
            "overflow": null,
            "overflow_x": null,
            "overflow_y": null,
            "padding": null,
            "right": null,
            "top": null,
            "visibility": null,
            "width": null
          }
        },
        "a8900a08d94f48158178faa0fb0bbac2": {
          "model_module": "@jupyter-widgets/controls",
          "model_module_version": "1.5.0",
          "model_name": "HTMLModel",
          "state": {
            "_dom_classes": [],
            "_model_module": "@jupyter-widgets/controls",
            "_model_module_version": "1.5.0",
            "_model_name": "HTMLModel",
            "_view_count": null,
            "_view_module": "@jupyter-widgets/controls",
            "_view_module_version": "1.5.0",
            "_view_name": "HTMLView",
            "description": "",
            "description_tooltip": null,
            "layout": "IPY_MODEL_0283a119c60d4f25a3d2a6f14a422414",
            "placeholder": "​",
            "style": "IPY_MODEL_708fc4ee67334b7ca3fd082ed01d280c",
            "value": "Extracting important chunks (test set): 100%"
          }
        },
        "b2cceb3424734e14b8cbb12c2e9eee62": {
          "model_module": "@jupyter-widgets/controls",
          "model_module_version": "1.5.0",
          "model_name": "FloatProgressModel",
          "state": {
            "_dom_classes": [],
            "_model_module": "@jupyter-widgets/controls",
            "_model_module_version": "1.5.0",
            "_model_name": "FloatProgressModel",
            "_view_count": null,
            "_view_module": "@jupyter-widgets/controls",
            "_view_module_version": "1.5.0",
            "_view_name": "ProgressView",
            "bar_style": "danger",
            "description": "",
            "description_tooltip": null,
            "layout": "IPY_MODEL_cf995c26c71d45bb8b80ddbac3e61dfd",
            "max": 15076,
            "min": 0,
            "orientation": "horizontal",
            "style": "IPY_MODEL_6b2c1503508846e68fcf59913fc53784",
            "value": 21
          }
        },
        "ba00ae0a2aa34f898c588623a1679c46": {
          "model_module": "@jupyter-widgets/controls",
          "model_module_version": "1.5.0",
          "model_name": "FloatProgressModel",
          "state": {
            "_dom_classes": [],
            "_model_module": "@jupyter-widgets/controls",
            "_model_module_version": "1.5.0",
            "_model_name": "FloatProgressModel",
            "_view_count": null,
            "_view_module": "@jupyter-widgets/controls",
            "_view_module_version": "1.5.0",
            "_view_name": "ProgressView",
            "bar_style": "success",
            "description": "",
            "description_tooltip": null,
            "layout": "IPY_MODEL_c70334004616428690706cc04bf711a3",
            "max": 4000,
            "min": 0,
            "orientation": "horizontal",
            "style": "IPY_MODEL_6d5ada9f567641229fab7717ddd24b77",
            "value": 4000
          }
        },
        "ba1fc46ff98249ab8d86aa6dcbf04593": {
          "model_module": "@jupyter-widgets/base",
          "model_module_version": "1.2.0",
          "model_name": "LayoutModel",
          "state": {
            "_model_module": "@jupyter-widgets/base",
            "_model_module_version": "1.2.0",
            "_model_name": "LayoutModel",
            "_view_count": null,
            "_view_module": "@jupyter-widgets/base",
            "_view_module_version": "1.2.0",
            "_view_name": "LayoutView",
            "align_content": null,
            "align_items": null,
            "align_self": null,
            "border": null,
            "bottom": null,
            "display": null,
            "flex": null,
            "flex_flow": null,
            "grid_area": null,
            "grid_auto_columns": null,
            "grid_auto_flow": null,
            "grid_auto_rows": null,
            "grid_column": null,
            "grid_gap": null,
            "grid_row": null,
            "grid_template_areas": null,
            "grid_template_columns": null,
            "grid_template_rows": null,
            "height": null,
            "justify_content": null,
            "justify_items": null,
            "left": null,
            "margin": null,
            "max_height": null,
            "max_width": null,
            "min_height": null,
            "min_width": null,
            "object_fit": null,
            "object_position": null,
            "order": null,
            "overflow": null,
            "overflow_x": null,
            "overflow_y": null,
            "padding": null,
            "right": null,
            "top": null,
            "visibility": null,
            "width": null
          }
        },
        "be7c8f7f82d7456abb1681d62367d586": {
          "model_module": "@jupyter-widgets/controls",
          "model_module_version": "1.5.0",
          "model_name": "DescriptionStyleModel",
          "state": {
            "_model_module": "@jupyter-widgets/controls",
            "_model_module_version": "1.5.0",
            "_model_name": "DescriptionStyleModel",
            "_view_count": null,
            "_view_module": "@jupyter-widgets/base",
            "_view_module_version": "1.2.0",
            "_view_name": "StyleView",
            "description_width": ""
          }
        },
        "becd76ef39c448d2a2666fdb11d8ad8b": {
          "model_module": "@jupyter-widgets/base",
          "model_module_version": "1.2.0",
          "model_name": "LayoutModel",
          "state": {
            "_model_module": "@jupyter-widgets/base",
            "_model_module_version": "1.2.0",
            "_model_name": "LayoutModel",
            "_view_count": null,
            "_view_module": "@jupyter-widgets/base",
            "_view_module_version": "1.2.0",
            "_view_name": "LayoutView",
            "align_content": null,
            "align_items": null,
            "align_self": null,
            "border": null,
            "bottom": null,
            "display": null,
            "flex": null,
            "flex_flow": null,
            "grid_area": null,
            "grid_auto_columns": null,
            "grid_auto_flow": null,
            "grid_auto_rows": null,
            "grid_column": null,
            "grid_gap": null,
            "grid_row": null,
            "grid_template_areas": null,
            "grid_template_columns": null,
            "grid_template_rows": null,
            "height": null,
            "justify_content": null,
            "justify_items": null,
            "left": null,
            "margin": null,
            "max_height": null,
            "max_width": null,
            "min_height": null,
            "min_width": null,
            "object_fit": null,
            "object_position": null,
            "order": null,
            "overflow": null,
            "overflow_x": null,
            "overflow_y": null,
            "padding": null,
            "right": null,
            "top": null,
            "visibility": null,
            "width": null
          }
        },
        "bef792b328d14015a7a8a99d8d3815b8": {
          "model_module": "@jupyter-widgets/controls",
          "model_module_version": "1.5.0",
          "model_name": "HTMLModel",
          "state": {
            "_dom_classes": [],
            "_model_module": "@jupyter-widgets/controls",
            "_model_module_version": "1.5.0",
            "_model_name": "HTMLModel",
            "_view_count": null,
            "_view_module": "@jupyter-widgets/controls",
            "_view_module_version": "1.5.0",
            "_view_name": "HTMLView",
            "description": "",
            "description_tooltip": null,
            "layout": "IPY_MODEL_10332cd3de20413a9d35627a48995dd2",
            "placeholder": "​",
            "style": "IPY_MODEL_be7c8f7f82d7456abb1681d62367d586",
            "value": "Extracting important chunks (train set):   0%"
          }
        },
        "bf284d96d86c4ba881d56cf37ec1d1d9": {
          "model_module": "@jupyter-widgets/controls",
          "model_module_version": "1.5.0",
          "model_name": "HTMLModel",
          "state": {
            "_dom_classes": [],
            "_model_module": "@jupyter-widgets/controls",
            "_model_module_version": "1.5.0",
            "_model_name": "HTMLModel",
            "_view_count": null,
            "_view_module": "@jupyter-widgets/controls",
            "_view_module_version": "1.5.0",
            "_view_name": "HTMLView",
            "description": "",
            "description_tooltip": null,
            "layout": "IPY_MODEL_580c44da5f0f45efb1dc77720c028c58",
            "placeholder": "​",
            "style": "IPY_MODEL_90856b7a55ba47af8d4894976e1568a8",
            "value": " 18391/18391 [01:51&lt;00:00, 401.64it/s]"
          }
        },
        "c70334004616428690706cc04bf711a3": {
          "model_module": "@jupyter-widgets/base",
          "model_module_version": "1.2.0",
          "model_name": "LayoutModel",
          "state": {
            "_model_module": "@jupyter-widgets/base",
            "_model_module_version": "1.2.0",
            "_model_name": "LayoutModel",
            "_view_count": null,
            "_view_module": "@jupyter-widgets/base",
            "_view_module_version": "1.2.0",
            "_view_name": "LayoutView",
            "align_content": null,
            "align_items": null,
            "align_self": null,
            "border": null,
            "bottom": null,
            "display": null,
            "flex": null,
            "flex_flow": null,
            "grid_area": null,
            "grid_auto_columns": null,
            "grid_auto_flow": null,
            "grid_auto_rows": null,
            "grid_column": null,
            "grid_gap": null,
            "grid_row": null,
            "grid_template_areas": null,
            "grid_template_columns": null,
            "grid_template_rows": null,
            "height": null,
            "justify_content": null,
            "justify_items": null,
            "left": null,
            "margin": null,
            "max_height": null,
            "max_width": null,
            "min_height": null,
            "min_width": null,
            "object_fit": null,
            "object_position": null,
            "order": null,
            "overflow": null,
            "overflow_x": null,
            "overflow_y": null,
            "padding": null,
            "right": null,
            "top": null,
            "visibility": null,
            "width": null
          }
        },
        "c8f8e52169a14d8da090385673d74aa4": {
          "model_module": "@jupyter-widgets/base",
          "model_module_version": "1.2.0",
          "model_name": "LayoutModel",
          "state": {
            "_model_module": "@jupyter-widgets/base",
            "_model_module_version": "1.2.0",
            "_model_name": "LayoutModel",
            "_view_count": null,
            "_view_module": "@jupyter-widgets/base",
            "_view_module_version": "1.2.0",
            "_view_name": "LayoutView",
            "align_content": null,
            "align_items": null,
            "align_self": null,
            "border": null,
            "bottom": null,
            "display": null,
            "flex": null,
            "flex_flow": null,
            "grid_area": null,
            "grid_auto_columns": null,
            "grid_auto_flow": null,
            "grid_auto_rows": null,
            "grid_column": null,
            "grid_gap": null,
            "grid_row": null,
            "grid_template_areas": null,
            "grid_template_columns": null,
            "grid_template_rows": null,
            "height": null,
            "justify_content": null,
            "justify_items": null,
            "left": null,
            "margin": null,
            "max_height": null,
            "max_width": null,
            "min_height": null,
            "min_width": null,
            "object_fit": null,
            "object_position": null,
            "order": null,
            "overflow": null,
            "overflow_x": null,
            "overflow_y": null,
            "padding": null,
            "right": null,
            "top": null,
            "visibility": null,
            "width": null
          }
        },
        "cdd8f18de64943e28ea6163eb7c9234e": {
          "model_module": "@jupyter-widgets/controls",
          "model_module_version": "1.5.0",
          "model_name": "HTMLModel",
          "state": {
            "_dom_classes": [],
            "_model_module": "@jupyter-widgets/controls",
            "_model_module_version": "1.5.0",
            "_model_name": "HTMLModel",
            "_view_count": null,
            "_view_module": "@jupyter-widgets/controls",
            "_view_module_version": "1.5.0",
            "_view_name": "HTMLView",
            "description": "",
            "description_tooltip": null,
            "layout": "IPY_MODEL_2d717dfd82cd49adb85b940b11b44138",
            "placeholder": "​",
            "style": "IPY_MODEL_f9f8683b0a524064b25a3f8b2d13f804",
            "value": " 4000/4000 [03:04&lt;00:00, 29.03it/s]"
          }
        },
        "ce9a7196e08a47c7b619323f77911d03": {
          "model_module": "@jupyter-widgets/controls",
          "model_module_version": "1.5.0",
          "model_name": "HBoxModel",
          "state": {
            "_dom_classes": [],
            "_model_module": "@jupyter-widgets/controls",
            "_model_module_version": "1.5.0",
            "_model_name": "HBoxModel",
            "_view_count": null,
            "_view_module": "@jupyter-widgets/controls",
            "_view_module_version": "1.5.0",
            "_view_name": "HBoxView",
            "box_style": "",
            "children": [
              "IPY_MODEL_180982a34185447eb1ea5e239fdef85f",
              "IPY_MODEL_2a1bcba4e87d427886fe67cd9b105136",
              "IPY_MODEL_4d243607e780466dbabb93db5368ae85"
            ],
            "layout": "IPY_MODEL_446e94e8d3e74b9babed58322523dc92"
          }
        },
        "cf995c26c71d45bb8b80ddbac3e61dfd": {
          "model_module": "@jupyter-widgets/base",
          "model_module_version": "1.2.0",
          "model_name": "LayoutModel",
          "state": {
            "_model_module": "@jupyter-widgets/base",
            "_model_module_version": "1.2.0",
            "_model_name": "LayoutModel",
            "_view_count": null,
            "_view_module": "@jupyter-widgets/base",
            "_view_module_version": "1.2.0",
            "_view_name": "LayoutView",
            "align_content": null,
            "align_items": null,
            "align_self": null,
            "border": null,
            "bottom": null,
            "display": null,
            "flex": null,
            "flex_flow": null,
            "grid_area": null,
            "grid_auto_columns": null,
            "grid_auto_flow": null,
            "grid_auto_rows": null,
            "grid_column": null,
            "grid_gap": null,
            "grid_row": null,
            "grid_template_areas": null,
            "grid_template_columns": null,
            "grid_template_rows": null,
            "height": null,
            "justify_content": null,
            "justify_items": null,
            "left": null,
            "margin": null,
            "max_height": null,
            "max_width": null,
            "min_height": null,
            "min_width": null,
            "object_fit": null,
            "object_position": null,
            "order": null,
            "overflow": null,
            "overflow_x": null,
            "overflow_y": null,
            "padding": null,
            "right": null,
            "top": null,
            "visibility": null,
            "width": null
          }
        },
        "d191dacc27bd421f8afbf6b750228924": {
          "model_module": "@jupyter-widgets/base",
          "model_module_version": "1.2.0",
          "model_name": "LayoutModel",
          "state": {
            "_model_module": "@jupyter-widgets/base",
            "_model_module_version": "1.2.0",
            "_model_name": "LayoutModel",
            "_view_count": null,
            "_view_module": "@jupyter-widgets/base",
            "_view_module_version": "1.2.0",
            "_view_name": "LayoutView",
            "align_content": null,
            "align_items": null,
            "align_self": null,
            "border": null,
            "bottom": null,
            "display": null,
            "flex": null,
            "flex_flow": null,
            "grid_area": null,
            "grid_auto_columns": null,
            "grid_auto_flow": null,
            "grid_auto_rows": null,
            "grid_column": null,
            "grid_gap": null,
            "grid_row": null,
            "grid_template_areas": null,
            "grid_template_columns": null,
            "grid_template_rows": null,
            "height": null,
            "justify_content": null,
            "justify_items": null,
            "left": null,
            "margin": null,
            "max_height": null,
            "max_width": null,
            "min_height": null,
            "min_width": null,
            "object_fit": null,
            "object_position": null,
            "order": null,
            "overflow": null,
            "overflow_x": null,
            "overflow_y": null,
            "padding": null,
            "right": null,
            "top": null,
            "visibility": null,
            "width": null
          }
        },
        "d599ccefcfed4b0eb0419c79aa2a8649": {
          "model_module": "@jupyter-widgets/controls",
          "model_module_version": "1.5.0",
          "model_name": "HBoxModel",
          "state": {
            "_dom_classes": [],
            "_model_module": "@jupyter-widgets/controls",
            "_model_module_version": "1.5.0",
            "_model_name": "HBoxModel",
            "_view_count": null,
            "_view_module": "@jupyter-widgets/controls",
            "_view_module_version": "1.5.0",
            "_view_name": "HBoxView",
            "box_style": "",
            "children": [
              "IPY_MODEL_a8900a08d94f48158178faa0fb0bbac2",
              "IPY_MODEL_33f12efa23c44108aa293645b213b320",
              "IPY_MODEL_568b01f4f5ac44a8bafc38a2b722215e"
            ],
            "layout": "IPY_MODEL_d96f34d715df4d32b180f9d42b90086c"
          }
        },
        "d73387a0ae45460e8cea3872ce4d7fde": {
          "model_module": "@jupyter-widgets/controls",
          "model_module_version": "1.5.0",
          "model_name": "DescriptionStyleModel",
          "state": {
            "_model_module": "@jupyter-widgets/controls",
            "_model_module_version": "1.5.0",
            "_model_name": "DescriptionStyleModel",
            "_view_count": null,
            "_view_module": "@jupyter-widgets/base",
            "_view_module_version": "1.2.0",
            "_view_name": "StyleView",
            "description_width": ""
          }
        },
        "d96f34d715df4d32b180f9d42b90086c": {
          "model_module": "@jupyter-widgets/base",
          "model_module_version": "1.2.0",
          "model_name": "LayoutModel",
          "state": {
            "_model_module": "@jupyter-widgets/base",
            "_model_module_version": "1.2.0",
            "_model_name": "LayoutModel",
            "_view_count": null,
            "_view_module": "@jupyter-widgets/base",
            "_view_module_version": "1.2.0",
            "_view_name": "LayoutView",
            "align_content": null,
            "align_items": null,
            "align_self": null,
            "border": null,
            "bottom": null,
            "display": null,
            "flex": null,
            "flex_flow": null,
            "grid_area": null,
            "grid_auto_columns": null,
            "grid_auto_flow": null,
            "grid_auto_rows": null,
            "grid_column": null,
            "grid_gap": null,
            "grid_row": null,
            "grid_template_areas": null,
            "grid_template_columns": null,
            "grid_template_rows": null,
            "height": null,
            "justify_content": null,
            "justify_items": null,
            "left": null,
            "margin": null,
            "max_height": null,
            "max_width": null,
            "min_height": null,
            "min_width": null,
            "object_fit": null,
            "object_position": null,
            "order": null,
            "overflow": null,
            "overflow_x": null,
            "overflow_y": null,
            "padding": null,
            "right": null,
            "top": null,
            "visibility": null,
            "width": null
          }
        },
        "e39774ec75934788975709071aac8758": {
          "model_module": "@jupyter-widgets/base",
          "model_module_version": "1.2.0",
          "model_name": "LayoutModel",
          "state": {
            "_model_module": "@jupyter-widgets/base",
            "_model_module_version": "1.2.0",
            "_model_name": "LayoutModel",
            "_view_count": null,
            "_view_module": "@jupyter-widgets/base",
            "_view_module_version": "1.2.0",
            "_view_name": "LayoutView",
            "align_content": null,
            "align_items": null,
            "align_self": null,
            "border": null,
            "bottom": null,
            "display": null,
            "flex": null,
            "flex_flow": null,
            "grid_area": null,
            "grid_auto_columns": null,
            "grid_auto_flow": null,
            "grid_auto_rows": null,
            "grid_column": null,
            "grid_gap": null,
            "grid_row": null,
            "grid_template_areas": null,
            "grid_template_columns": null,
            "grid_template_rows": null,
            "height": null,
            "justify_content": null,
            "justify_items": null,
            "left": null,
            "margin": null,
            "max_height": null,
            "max_width": null,
            "min_height": null,
            "min_width": null,
            "object_fit": null,
            "object_position": null,
            "order": null,
            "overflow": null,
            "overflow_x": null,
            "overflow_y": null,
            "padding": null,
            "right": null,
            "top": null,
            "visibility": null,
            "width": null
          }
        },
        "ec44f969161a40d8b77f53159fa5b4fd": {
          "model_module": "@jupyter-widgets/base",
          "model_module_version": "1.2.0",
          "model_name": "LayoutModel",
          "state": {
            "_model_module": "@jupyter-widgets/base",
            "_model_module_version": "1.2.0",
            "_model_name": "LayoutModel",
            "_view_count": null,
            "_view_module": "@jupyter-widgets/base",
            "_view_module_version": "1.2.0",
            "_view_name": "LayoutView",
            "align_content": null,
            "align_items": null,
            "align_self": null,
            "border": null,
            "bottom": null,
            "display": null,
            "flex": null,
            "flex_flow": null,
            "grid_area": null,
            "grid_auto_columns": null,
            "grid_auto_flow": null,
            "grid_auto_rows": null,
            "grid_column": null,
            "grid_gap": null,
            "grid_row": null,
            "grid_template_areas": null,
            "grid_template_columns": null,
            "grid_template_rows": null,
            "height": null,
            "justify_content": null,
            "justify_items": null,
            "left": null,
            "margin": null,
            "max_height": null,
            "max_width": null,
            "min_height": null,
            "min_width": null,
            "object_fit": null,
            "object_position": null,
            "order": null,
            "overflow": null,
            "overflow_x": null,
            "overflow_y": null,
            "padding": null,
            "right": null,
            "top": null,
            "visibility": null,
            "width": null
          }
        },
        "f03c7ff55e51457bb2ae5a6709482301": {
          "model_module": "@jupyter-widgets/controls",
          "model_module_version": "1.5.0",
          "model_name": "HTMLModel",
          "state": {
            "_dom_classes": [],
            "_model_module": "@jupyter-widgets/controls",
            "_model_module_version": "1.5.0",
            "_model_name": "HTMLModel",
            "_view_count": null,
            "_view_module": "@jupyter-widgets/controls",
            "_view_module_version": "1.5.0",
            "_view_name": "HTMLView",
            "description": "",
            "description_tooltip": null,
            "layout": "IPY_MODEL_788a2ec55c8b4744a76e27cacbece45e",
            "placeholder": "​",
            "style": "IPY_MODEL_813f7e0ec4a94ea485dfd5370f25f7f7",
            "value": " 21/15076 [02:58&lt;16:09, 15.53it/s]"
          }
        },
        "f7243587bdbd4658ab0c6e11c5502f90": {
          "model_module": "@jupyter-widgets/base",
          "model_module_version": "1.2.0",
          "model_name": "LayoutModel",
          "state": {
            "_model_module": "@jupyter-widgets/base",
            "_model_module_version": "1.2.0",
            "_model_name": "LayoutModel",
            "_view_count": null,
            "_view_module": "@jupyter-widgets/base",
            "_view_module_version": "1.2.0",
            "_view_name": "LayoutView",
            "align_content": null,
            "align_items": null,
            "align_self": null,
            "border": null,
            "bottom": null,
            "display": null,
            "flex": null,
            "flex_flow": null,
            "grid_area": null,
            "grid_auto_columns": null,
            "grid_auto_flow": null,
            "grid_auto_rows": null,
            "grid_column": null,
            "grid_gap": null,
            "grid_row": null,
            "grid_template_areas": null,
            "grid_template_columns": null,
            "grid_template_rows": null,
            "height": null,
            "justify_content": null,
            "justify_items": null,
            "left": null,
            "margin": null,
            "max_height": null,
            "max_width": null,
            "min_height": null,
            "min_width": null,
            "object_fit": null,
            "object_position": null,
            "order": null,
            "overflow": null,
            "overflow_x": null,
            "overflow_y": null,
            "padding": null,
            "right": null,
            "top": null,
            "visibility": null,
            "width": null
          }
        },
        "f9f8683b0a524064b25a3f8b2d13f804": {
          "model_module": "@jupyter-widgets/controls",
          "model_module_version": "1.5.0",
          "model_name": "DescriptionStyleModel",
          "state": {
            "_model_module": "@jupyter-widgets/controls",
            "_model_module_version": "1.5.0",
            "_model_name": "DescriptionStyleModel",
            "_view_count": null,
            "_view_module": "@jupyter-widgets/base",
            "_view_module_version": "1.2.0",
            "_view_name": "StyleView",
            "description_width": ""
          }
        }
      }
    }
  },
  "nbformat": 4,
  "nbformat_minor": 0
}